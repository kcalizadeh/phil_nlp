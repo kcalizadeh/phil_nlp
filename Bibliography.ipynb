{
  "nbformat": 4,
  "nbformat_minor": 0,
  "metadata": {
    "colab": {
      "name": "Bibliography.ipynb",
      "provenance": [],
      "authorship_tag": "ABX9TyORGuN4St1GQhvWrw9a7nlu",
      "include_colab_link": true
    },
    "kernelspec": {
      "name": "python3",
      "display_name": "Python 3"
    }
  },
  "cells": [
    {
      "cell_type": "markdown",
      "metadata": {
        "id": "view-in-github",
        "colab_type": "text"
      },
      "source": [
        "<a href=\"https://colab.research.google.com/github/kcalizadeh/phil_nlp/blob/master/Bibliography.ipynb\" target=\"_parent\"><img src=\"https://colab.research.google.com/assets/colab-badge.svg\" alt=\"Open In Colab\"/></a>"
      ]
    },
    {
      "cell_type": "markdown",
      "metadata": {
        "id": "Nl-8GqvGvItf"
      },
      "source": [
        "#### Plato"
      ]
    },
    {
      "cell_type": "markdown",
      "metadata": {
        "id": "iNeoacsPvK5w"
      },
      "source": [
        "Plato. *Complete Works*. Edited by John M. Cooper, Hacket Publishing Company, 1997."
      ]
    },
    {
      "cell_type": "markdown",
      "metadata": {
        "id": "37ZHRMIfvLOf"
      },
      "source": [
        "#### Aristotle"
      ]
    },
    {
      "cell_type": "markdown",
      "metadata": {
        "id": "5apWPH0rvMwx"
      },
      "source": [
        "Aristotle. *The Complete Works of Aristotle*. Edited by Jonathan Barnes, Princeton University Press, 1991. 2 vols."
      ]
    },
    {
      "cell_type": "markdown",
      "metadata": {
        "id": "5DGEQzb3vNEm"
      },
      "source": [
        "#### Rationalism"
      ]
    },
    {
      "cell_type": "code",
      "metadata": {
        "id": "eHy5BhacvPd4"
      },
      "source": [
        ""
      ],
      "execution_count": null,
      "outputs": []
    },
    {
      "cell_type": "markdown",
      "metadata": {
        "id": "9o8s-AGYvPr9"
      },
      "source": [
        "#### Empiricism"
      ]
    },
    {
      "cell_type": "code",
      "metadata": {
        "id": "aPCJ9KScvQ8e"
      },
      "source": [
        ""
      ],
      "execution_count": null,
      "outputs": []
    },
    {
      "cell_type": "markdown",
      "metadata": {
        "id": "1ePm7SPavVpL"
      },
      "source": [
        "#### German Idealism"
      ]
    },
    {
      "cell_type": "markdown",
      "metadata": {
        "id": "lFURBKfdvXat"
      },
      "source": [
        ""
      ]
    },
    {
      "cell_type": "markdown",
      "metadata": {
        "id": "jPYeGAJevYIb"
      },
      "source": [
        "#### Phenomenology"
      ]
    },
    {
      "cell_type": "markdown",
      "metadata": {
        "id": "pFRyxIk2vgxf"
      },
      "source": [
        ""
      ]
    },
    {
      "cell_type": "markdown",
      "metadata": {
        "id": "eDIMUk5Ovhhe"
      },
      "source": [
        "#### Continental"
      ]
    },
    {
      "cell_type": "markdown",
      "metadata": {
        "id": "JQxI4n-mvmwe"
      },
      "source": [
        ""
      ]
    },
    {
      "cell_type": "markdown",
      "metadata": {
        "id": "G8doahafvnUo"
      },
      "source": [
        "#### Analytic"
      ]
    },
    {
      "cell_type": "markdown",
      "metadata": {
        "id": "6iR8vwDSvpX7"
      },
      "source": [
        ""
      ]
    },
    {
      "cell_type": "markdown",
      "metadata": {
        "id": "jIz-2FQwvpyw"
      },
      "source": [
        "#### Capitalism"
      ]
    },
    {
      "cell_type": "code",
      "metadata": {
        "id": "2basIWu_vr4P"
      },
      "source": [
        ""
      ],
      "execution_count": null,
      "outputs": []
    },
    {
      "cell_type": "markdown",
      "metadata": {
        "id": "W81wJAbdvsFH"
      },
      "source": [
        "#### Communism"
      ]
    }
  ]
}