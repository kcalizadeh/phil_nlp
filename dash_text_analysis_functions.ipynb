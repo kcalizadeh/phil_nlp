{
  "nbformat": 4,
  "nbformat_minor": 0,
  "metadata": {
    "colab": {
      "name": "dash_text_analysis_functions.ipynb",
      "provenance": [],
      "authorship_tag": "ABX9TyOHXrtxCeKrtREICeA9BwIZ",
      "include_colab_link": true
    },
    "kernelspec": {
      "name": "python3",
      "display_name": "Python 3"
    }
  },
  "cells": [
    {
      "cell_type": "markdown",
      "metadata": {
        "id": "view-in-github",
        "colab_type": "text"
      },
      "source": [
        "<a href=\"https://colab.research.google.com/github/kcalizadeh/phil_nlp/blob/master/dash_text_analysis_functions.ipynb\" target=\"_parent\"><img src=\"https://colab.research.google.com/assets/colab-badge.svg\" alt=\"Open In Colab\"/></a>"
      ]
    },
    {
      "cell_type": "markdown",
      "metadata": {
        "id": "TJSqTAXtOOBK"
      },
      "source": [
        "### Imports and Mounting Drive"
      ]
    },
    {
      "cell_type": "code",
      "metadata": {
        "colab": {
          "base_uri": "https://localhost:8080/"
        },
        "id": "7WBbJ6ccORn6",
        "outputId": "34a46f2a-6a7d-4a9b-e7f5-6674e4ce7d0b"
      },
      "source": [
        "# this cell mounts drive, sets the correct directory, then imports all functions\r\n",
        "# and relevant libraries via the functions.py file\r\n",
        "from google.colab import drive\r\n",
        "import sys\r\n",
        "\r\n",
        "# install relevent libraries not included with colab\r\n",
        "!pip install lime\r\n",
        "!pip install symspellpy\r\n",
        "\r\n",
        "drive.mount('/gdrive',force_remount=True)\r\n",
        "\r\n",
        "drive_path = '/gdrive/MyDrive/Colab_Projects/Phil_NLP'\r\n",
        "\r\n",
        "sys.path.append(drive_path)"
      ],
      "execution_count": 1,
      "outputs": [
        {
          "output_type": "stream",
          "text": [
            "Collecting lime\n",
            "\u001b[?25l  Downloading https://files.pythonhosted.org/packages/f5/86/91a13127d83d793ecb50eb75e716f76e6eda809b6803c5a4ff462339789e/lime-0.2.0.1.tar.gz (275kB)\n",
            "\r\u001b[K     |█▏                              | 10kB 16.9MB/s eta 0:00:01\r\u001b[K     |██▍                             | 20kB 17.6MB/s eta 0:00:01\r\u001b[K     |███▋                            | 30kB 10.1MB/s eta 0:00:01\r\u001b[K     |████▊                           | 40kB 8.6MB/s eta 0:00:01\r\u001b[K     |██████                          | 51kB 4.3MB/s eta 0:00:01\r\u001b[K     |███████▏                        | 61kB 4.3MB/s eta 0:00:01\r\u001b[K     |████████▎                       | 71kB 4.8MB/s eta 0:00:01\r\u001b[K     |█████████▌                      | 81kB 4.9MB/s eta 0:00:01\r\u001b[K     |██████████▊                     | 92kB 5.4MB/s eta 0:00:01\r\u001b[K     |███████████▉                    | 102kB 5.6MB/s eta 0:00:01\r\u001b[K     |█████████████                   | 112kB 5.6MB/s eta 0:00:01\r\u001b[K     |██████████████▎                 | 122kB 5.6MB/s eta 0:00:01\r\u001b[K     |███████████████▌                | 133kB 5.6MB/s eta 0:00:01\r\u001b[K     |████████████████▋               | 143kB 5.6MB/s eta 0:00:01\r\u001b[K     |█████████████████▉              | 153kB 5.6MB/s eta 0:00:01\r\u001b[K     |███████████████████             | 163kB 5.6MB/s eta 0:00:01\r\u001b[K     |████████████████████▏           | 174kB 5.6MB/s eta 0:00:01\r\u001b[K     |█████████████████████▍          | 184kB 5.6MB/s eta 0:00:01\r\u001b[K     |██████████████████████▋         | 194kB 5.6MB/s eta 0:00:01\r\u001b[K     |███████████████████████▊        | 204kB 5.6MB/s eta 0:00:01\r\u001b[K     |█████████████████████████       | 215kB 5.6MB/s eta 0:00:01\r\u001b[K     |██████████████████████████▏     | 225kB 5.6MB/s eta 0:00:01\r\u001b[K     |███████████████████████████▍    | 235kB 5.6MB/s eta 0:00:01\r\u001b[K     |████████████████████████████▌   | 245kB 5.6MB/s eta 0:00:01\r\u001b[K     |█████████████████████████████▊  | 256kB 5.6MB/s eta 0:00:01\r\u001b[K     |███████████████████████████████ | 266kB 5.6MB/s eta 0:00:01\r\u001b[K     |████████████████████████████████| 276kB 5.6MB/s \n",
            "\u001b[?25hRequirement already satisfied: matplotlib in /usr/local/lib/python3.6/dist-packages (from lime) (3.2.2)\n",
            "Requirement already satisfied: numpy in /usr/local/lib/python3.6/dist-packages (from lime) (1.19.4)\n",
            "Requirement already satisfied: scipy in /usr/local/lib/python3.6/dist-packages (from lime) (1.4.1)\n",
            "Requirement already satisfied: tqdm in /usr/local/lib/python3.6/dist-packages (from lime) (4.41.1)\n",
            "Requirement already satisfied: scikit-learn>=0.18 in /usr/local/lib/python3.6/dist-packages (from lime) (0.22.2.post1)\n",
            "Requirement already satisfied: scikit-image>=0.12 in /usr/local/lib/python3.6/dist-packages (from lime) (0.16.2)\n",
            "Requirement already satisfied: pyparsing!=2.0.4,!=2.1.2,!=2.1.6,>=2.0.1 in /usr/local/lib/python3.6/dist-packages (from matplotlib->lime) (2.4.7)\n",
            "Requirement already satisfied: cycler>=0.10 in /usr/local/lib/python3.6/dist-packages (from matplotlib->lime) (0.10.0)\n",
            "Requirement already satisfied: python-dateutil>=2.1 in /usr/local/lib/python3.6/dist-packages (from matplotlib->lime) (2.8.1)\n",
            "Requirement already satisfied: kiwisolver>=1.0.1 in /usr/local/lib/python3.6/dist-packages (from matplotlib->lime) (1.3.1)\n",
            "Requirement already satisfied: joblib>=0.11 in /usr/local/lib/python3.6/dist-packages (from scikit-learn>=0.18->lime) (1.0.0)\n",
            "Requirement already satisfied: pillow>=4.3.0 in /usr/local/lib/python3.6/dist-packages (from scikit-image>=0.12->lime) (7.0.0)\n",
            "Requirement already satisfied: imageio>=2.3.0 in /usr/local/lib/python3.6/dist-packages (from scikit-image>=0.12->lime) (2.4.1)\n",
            "Requirement already satisfied: PyWavelets>=0.4.0 in /usr/local/lib/python3.6/dist-packages (from scikit-image>=0.12->lime) (1.1.1)\n",
            "Requirement already satisfied: networkx>=2.0 in /usr/local/lib/python3.6/dist-packages (from scikit-image>=0.12->lime) (2.5)\n",
            "Requirement already satisfied: six in /usr/local/lib/python3.6/dist-packages (from cycler>=0.10->matplotlib->lime) (1.15.0)\n",
            "Requirement already satisfied: decorator>=4.3.0 in /usr/local/lib/python3.6/dist-packages (from networkx>=2.0->scikit-image>=0.12->lime) (4.4.2)\n",
            "Building wheels for collected packages: lime\n",
            "  Building wheel for lime (setup.py) ... \u001b[?25l\u001b[?25hdone\n",
            "  Created wheel for lime: filename=lime-0.2.0.1-cp36-none-any.whl size=283846 sha256=6acf1a255d27137d6347188d510702be38f534b1a01427f5512e2a4d7200ac07\n",
            "  Stored in directory: /root/.cache/pip/wheels/4c/4f/a5/0bc765457bd41378bf3ce8d17d7495369d6e7ca3b712c60c89\n",
            "Successfully built lime\n",
            "Installing collected packages: lime\n",
            "Successfully installed lime-0.2.0.1\n",
            "Collecting symspellpy\n",
            "\u001b[?25l  Downloading https://files.pythonhosted.org/packages/99/af/e71fcca6a42b6a63f518b0c1627e1f67822815cb0cf71e6af05acbd75c78/symspellpy-6.7.0-py3-none-any.whl (2.6MB)\n",
            "\u001b[K     |████████████████████████████████| 2.6MB 5.7MB/s \n",
            "\u001b[?25hRequirement already satisfied: numpy>=1.13.1 in /usr/local/lib/python3.6/dist-packages (from symspellpy) (1.19.4)\n",
            "Installing collected packages: symspellpy\n",
            "Successfully installed symspellpy-6.7.0\n",
            "Mounted at /gdrive\n"
          ],
          "name": "stdout"
        }
      ]
    },
    {
      "cell_type": "code",
      "metadata": {
        "colab": {
          "base_uri": "https://localhost:8080/"
        },
        "id": "mrl8Jh_fOSVu",
        "outputId": "2c7deb2b-c614-4daf-f2e3-4b058cdb98dd"
      },
      "source": [
        "from functions import *\r\n",
        "%load_ext autoreload\r\n",
        "%autoreload 2\r\n",
        "\r\n",
        "np.random_seed=17"
      ],
      "execution_count": 2,
      "outputs": [
        {
          "output_type": "stream",
          "text": [
            "/usr/local/lib/python3.6/dist-packages/sklearn/externals/six.py:31: FutureWarning: The module is deprecated in version 0.21 and will be removed in version 0.23 since we've dropped support for Python 2.7. Please rely on the official version of six (https://pypi.org/project/six/).\n",
            "  \"(https://pypi.org/project/six/).\", FutureWarning)\n",
            "/usr/local/lib/python3.6/dist-packages/sklearn/utils/deprecation.py:144: FutureWarning: The sklearn.neighbors.base module is  deprecated in version 0.22 and will be removed in version 0.24. The corresponding classes / functions should instead be imported from sklearn.neighbors. Anything that cannot be imported from sklearn.neighbors is now part of the private API.\n",
            "  warnings.warn(message, FutureWarning)\n"
          ],
          "name": "stderr"
        },
        {
          "output_type": "stream",
          "text": [
            "[nltk_data] Downloading package stopwords to /root/nltk_data...\n",
            "[nltk_data]   Unzipping corpora/stopwords.zip.\n"
          ],
          "name": "stdout"
        }
      ]
    },
    {
      "cell_type": "markdown",
      "metadata": {
        "id": "6xR-ZY3DOjY1"
      },
      "source": [
        "### Load Data"
      ]
    },
    {
      "cell_type": "code",
      "metadata": {
        "colab": {
          "base_uri": "https://localhost:8080/",
          "height": 484
        },
        "id": "xKykGwjcOzJU",
        "outputId": "11772cfd-8cc9-4af9-9253-c54e877c7622"
      },
      "source": [
        "df = pd.read_csv('/gdrive/MyDrive/Colab_Projects/Phil_NLP/phil_nlp.csv')\r\n",
        "\r\n",
        "df.sample(5)"
      ],
      "execution_count": 3,
      "outputs": [
        {
          "output_type": "execute_result",
          "data": {
            "text/html": [
              "<div>\n",
              "<style scoped>\n",
              "    .dataframe tbody tr th:only-of-type {\n",
              "        vertical-align: middle;\n",
              "    }\n",
              "\n",
              "    .dataframe tbody tr th {\n",
              "        vertical-align: top;\n",
              "    }\n",
              "\n",
              "    .dataframe thead th {\n",
              "        text-align: right;\n",
              "    }\n",
              "</style>\n",
              "<table border=\"1\" class=\"dataframe\">\n",
              "  <thead>\n",
              "    <tr style=\"text-align: right;\">\n",
              "      <th></th>\n",
              "      <th>title</th>\n",
              "      <th>author</th>\n",
              "      <th>school</th>\n",
              "      <th>sentence_spacy</th>\n",
              "      <th>sentence_str</th>\n",
              "      <th>sentence_length</th>\n",
              "      <th>sentence_lowered</th>\n",
              "      <th>lemmatized_str</th>\n",
              "      <th>tokenized_txt</th>\n",
              "    </tr>\n",
              "  </thead>\n",
              "  <tbody>\n",
              "    <tr>\n",
              "      <th>189954</th>\n",
              "      <td>madness and civilization</td>\n",
              "      <td>foucault</td>\n",
              "      <td>continental</td>\n",
              "      <td>As a consequence and degradation of that, it w...</td>\n",
              "      <td>As a consequence and degradation of that, it w...</td>\n",
              "      <td>129</td>\n",
              "      <td>as a consequence and degradation of that, it w...</td>\n",
              "      <td>as a consequence and degradation of that , -P...</td>\n",
              "      <td>['As', 'a', 'consequence', 'and', 'degradation...</td>\n",
              "    </tr>\n",
              "    <tr>\n",
              "      <th>214976</th>\n",
              "      <td>anti-oedipus</td>\n",
              "      <td>deleuze</td>\n",
              "      <td>continental</td>\n",
              "      <td>Nijinsky wrote: I am God</td>\n",
              "      <td>Nijinsky wrote: I am God</td>\n",
              "      <td>24</td>\n",
              "      <td>nijinsky wrote: i am god</td>\n",
              "      <td>Nijinsky write : -PRON- be God</td>\n",
              "      <td>['Nijinsky', 'wrote', ':', 'I', 'am', 'God']</td>\n",
              "    </tr>\n",
              "    <tr>\n",
              "      <th>194561</th>\n",
              "      <td>madness and civilization</td>\n",
              "      <td>foucault</td>\n",
              "      <td>continental</td>\n",
              "      <td>: Work will be proportional to strength and th...</td>\n",
              "      <td>: Work will be proportional to strength and th...</td>\n",
              "      <td>121</td>\n",
              "      <td>: work will be proportional to strength and th...</td>\n",
              "      <td>: work will be proportional to strength and t...</td>\n",
              "      <td>[':', 'Work', 'will', 'be', 'proportional', 't...</td>\n",
              "    </tr>\n",
              "    <tr>\n",
              "      <th>152200</th>\n",
              "      <td>papers vol 1</td>\n",
              "      <td>lewis</td>\n",
              "      <td>analytic</td>\n",
              "      <td>More precisely: a regularity, in action or in ...</td>\n",
              "      <td>More precisely: a regularity, in action or in ...</td>\n",
              "      <td>124</td>\n",
              "      <td>more precisely: a regularity, in action or in ...</td>\n",
              "      <td>more precisely : a regularity , in action or ...</td>\n",
              "      <td>['More', 'precisely', ':', 'a', 'regularity', ...</td>\n",
              "    </tr>\n",
              "    <tr>\n",
              "      <th>322466</th>\n",
              "      <td>political economy</td>\n",
              "      <td>ricardo</td>\n",
              "      <td>capitalism</td>\n",
              "      <td>If a tax, however burdensome it may be, falls ...</td>\n",
              "      <td>If a tax, however burdensome it may be, falls ...</td>\n",
              "      <td>139</td>\n",
              "      <td>if a tax, however burdensome it may be, falls ...</td>\n",
              "      <td>if a tax , however burdensome -PRON- may be ,...</td>\n",
              "      <td>['If', 'a', 'tax', ',', 'however', 'burdensome...</td>\n",
              "    </tr>\n",
              "  </tbody>\n",
              "</table>\n",
              "</div>"
            ],
            "text/plain": [
              "                           title  ...                                      tokenized_txt\n",
              "189954  madness and civilization  ...  ['As', 'a', 'consequence', 'and', 'degradation...\n",
              "214976              anti-oedipus  ...       ['Nijinsky', 'wrote', ':', 'I', 'am', 'God']\n",
              "194561  madness and civilization  ...  [':', 'Work', 'will', 'be', 'proportional', 't...\n",
              "152200             papers vol 1   ...  ['More', 'precisely', ':', 'a', 'regularity', ...\n",
              "322466         political economy  ...  ['If', 'a', 'tax', ',', 'however', 'burdensome...\n",
              "\n",
              "[5 rows x 9 columns]"
            ]
          },
          "metadata": {
            "tags": []
          },
          "execution_count": 3
        }
      ]
    },
    {
      "cell_type": "code",
      "metadata": {
        "id": "zqgrQdZ8O26M"
      },
      "source": [
        "stopwords_list = stopwords.words('english') + list(string.punctuation) + ['“','”','...',\"''\",'’','``', \"'\", \"‘\"]\r\n",
        "custom_stopwords = ['–', 'also', 'something', 'cf', 'thus', 'two', 'now', 'would', \r\n",
        "                    'make', 'eb', 'u', 'well', 'even', 'said', 'eg', 'us',\r\n",
        "                    'n', 'sein', 'e', 'da', 'therefore', 'however', 'would', \r\n",
        "                    'thing', 'must', 'merely', 'way', 'since', 'latter', 'first',\r\n",
        "                    'B', 'mean', 'upon', 'yet', 'cannot', 'c', 'C', 'let', 'may', \r\n",
        "                    'might', \"'s\", 'b', 'ofthe', 'p.', '_', '-', 'eg', 'e.g.',\r\n",
        "                    'ie', 'i.e.', 'f', 'l', \"n't\", 'e.g', 'i.e', '—', '--', \r\n",
        "                    'hyl', 'phil', 'one'] + stopwords_list"
      ],
      "execution_count": 30,
      "outputs": []
    },
    {
      "cell_type": "code",
      "metadata": {
        "id": "Ldp26-arUk2c"
      },
      "source": [
        "classifier_dict = {}\r\n",
        "for author in df['author'].unique():\r\n",
        "  classifier_dict[author] = 'author'\r\n",
        "for title in df['title'].unique():\r\n",
        "  classifier_dict[title] = 'title'\r\n",
        "for school in df['school'].unique():\r\n",
        "  classifier_dict[school] = 'school'"
      ],
      "execution_count": 27,
      "outputs": []
    },
    {
      "cell_type": "markdown",
      "metadata": {
        "id": "WUVWhm3XO3Gq"
      },
      "source": [
        "### Word Cloud Function"
      ]
    },
    {
      "cell_type": "code",
      "metadata": {
        "id": "FcZEX7hxQ1T1"
      },
      "source": [
        "# this function takes as inputs an author, title, or school, and returns \r\n",
        "# a word cloud for that group's texts\r\n",
        "\r\n",
        "def make_word_cloud(input, stopwords=stopwords.words('english')):\r\n",
        "    text = ''\r\n",
        "    for sentence in df[df[classifier_dict[input]]==input]['sentence_str']:\r\n",
        "      text += sentence\r\n",
        "    cloud = wordcloud.WordCloud(width=2000, \r\n",
        "                            height=1100, \r\n",
        "                            background_color='#D1D1D1', \r\n",
        "                            max_words=30, \r\n",
        "                            stopwords=stopwords, \r\n",
        "                            color_func=lambda *args, **kwargs: (95,95,95)).generate(text)\r\n",
        "    return cloud"
      ],
      "execution_count": 19,
      "outputs": []
    },
    {
      "cell_type": "code",
      "metadata": {
        "colab": {
          "base_uri": "https://localhost:8080/",
          "height": 253
        },
        "id": "Lf7EnNX6W0Eb",
        "outputId": "48b37f21-a21d-4500-aec8-727563fe384a"
      },
      "source": [
        "# testing it out\r\n",
        "plt.imshow(make_word_cloud('the science of logic', stopwords=custom_stopwords))"
      ],
      "execution_count": 32,
      "outputs": [
        {
          "output_type": "execute_result",
          "data": {
            "text/plain": [
              "<matplotlib.image.AxesImage at 0x7fdaaa196c88>"
            ]
          },
          "metadata": {
            "tags": []
          },
          "execution_count": 32
        },
        {
          "output_type": "display_data",
          "data": {
            "image/png": "[encoded data removed]",
            "text/plain": [
              "<Figure size 432x288 with 1 Axes>"
            ]
          },
          "metadata": {
            "tags": [],
            "needs_background": "light"
          }
        }
      ]
    },
    {
      "cell_type": "markdown",
      "metadata": {
        "id": "yo45gNvcW_K6"
      },
      "source": [
        "### Average Word Length Function"
      ]
    },
    {
      "cell_type": "code",
      "metadata": {
        "id": "Mb4g5N9vZVB_"
      },
      "source": [
        "def get_average_word_length(input):\r\n",
        "  punctuations = list(string.punctuation) + ['“','”','...',\"''\",'’','``', \"'\", \"‘\", '[', '[']\r\n",
        "  num_words = 0\r\n",
        "  sum_word_lengths = 0\r\n",
        "  for sentence in df[df[classifier_dict[input]]==input]['tokenized_txt']:\r\n",
        "    sentence_list = sentence.split()\r\n",
        "    sentence_list = [re.sub(\"[',]\", '', word) for word in sentence_list]\r\n",
        "    no_punctuation_tokens = [word for word in sentence_list if word not in punctuations]\r\n",
        "    no_punctuation_tokens = [word for word in no_punctuation_tokens if len(word) > 0]\r\n",
        "    for word in no_punctuation_tokens:\r\n",
        "      num_words += 1\r\n",
        "      sum_word_lengths += len(word)\r\n",
        "  return sum_word_lengths / num_words"
      ],
      "execution_count": 68,
      "outputs": []
    },
    {
      "cell_type": "code",
      "metadata": {
        "colab": {
          "base_uri": "https://localhost:8080/"
        },
        "id": "NK0JiRLVb1AA",
        "outputId": "b299044f-c529-4fc2-8846-8b7a20583903"
      },
      "source": [
        "# test it out\r\n",
        "for school in df['school'].unique():\r\n",
        "  print(school)\r\n",
        "  print(get_average_word_length(school))\r\n",
        "  print()"
      ],
      "execution_count": 70,
      "outputs": [
        {
          "output_type": "stream",
          "text": [
            "plato\n",
            "4.219800084945763\n",
            "\n",
            "aristotle\n",
            "4.316441579485012\n",
            "\n",
            "empiricism\n",
            "4.500572602099245\n",
            "\n",
            "rationalism\n",
            "4.439002183955361\n",
            "\n",
            "analytic\n",
            "4.544839803887312\n",
            "\n",
            "continental\n",
            "4.8112526414942645\n",
            "\n",
            "phenomenology\n",
            "4.7367242048362455\n",
            "\n",
            "german_idealism\n",
            "4.725714199829411\n",
            "\n",
            "communism\n",
            "4.769301039274698\n",
            "\n",
            "capitalism\n",
            "4.620634322859528\n",
            "\n"
          ],
          "name": "stdout"
        }
      ]
    },
    {
      "cell_type": "markdown",
      "metadata": {
        "id": "gyCUnc1Cc4xg"
      },
      "source": [
        "### Average Sentence Length Function"
      ]
    },
    {
      "cell_type": "code",
      "metadata": {
        "colab": {
          "base_uri": "https://localhost:8080/"
        },
        "id": "90qC6MIOdf-n",
        "outputId": "c72441f8-88c5-40a7-b327-40753312a3ff"
      },
      "source": [
        "def get_average_sentence_length(input):\r\n",
        "  punctuations = list(string.punctuation) + ['“','”','...',\"''\",'’','``', \"'\", \"‘\", '[', ']']\r\n",
        "  num_sentences = 0\r\n",
        "  sum_sentence_lengths = 0\r\n",
        "  for sentence in df[df[classifier_dict[input]]==input]['tokenized_txt']:\r\n",
        "    sentence_list = sentence.split()\r\n",
        "    no_punctuation_tokens = [word for word in sentence_list if word not in punctuations]\r\n",
        "    no_punctuation_tokens = [word for word in no_punctuation_tokens if len(word) > 0]\r\n",
        "    num_sentences += 1\r\n",
        "    sum_sentence_lengths += len(no_punctuation_tokens)\r\n",
        "  return sum_sentence_lengths / num_sentences"
      ],
      "execution_count": 71,
      "outputs": [
        {
          "output_type": "stream",
          "text": [
            "[nltk_data] Downloading package stopwords to /root/nltk_data...\n",
            "[nltk_data]   Package stopwords is already up-to-date!\n"
          ],
          "name": "stdout"
        }
      ]
    },
    {
      "cell_type": "code",
      "metadata": {
        "colab": {
          "base_uri": "https://localhost:8080/"
        },
        "id": "Hp80-RxqgXXP",
        "outputId": "9865e739-d419-4534-8fac-68b0100460c0"
      },
      "source": [
        "# testing\r\n",
        "for school in df['school'].unique():\r\n",
        "  print(school)\r\n",
        "  print(get_average_sentence_length(school))\r\n",
        "  print()"
      ],
      "execution_count": 73,
      "outputs": [
        {
          "output_type": "stream",
          "text": [
            "plato\n",
            "23.9527197852321\n",
            "\n",
            "aristotle\n",
            "30.391855346532697\n",
            "\n",
            "empiricism\n",
            "36.65442944785276\n",
            "\n",
            "rationalism\n",
            "32.76701012999435\n",
            "\n",
            "analytic\n",
            "23.665816848726205\n",
            "\n",
            "continental\n",
            "32.26270636792453\n",
            "\n",
            "phenomenology\n",
            "27.58667644286163\n",
            "\n",
            "german_idealism\n",
            "34.10015605050362\n",
            "\n",
            "communism\n",
            "29.05610799400033\n",
            "\n",
            "capitalism\n",
            "36.516657534246576\n",
            "\n"
          ],
          "name": "stdout"
        }
      ]
    },
    {
      "cell_type": "markdown",
      "metadata": {
        "id": "8EH5ZeSMdgHW"
      },
      "source": [
        "### Median Sentence Length Function"
      ]
    },
    {
      "cell_type": "code",
      "metadata": {
        "id": "NdseBnoYdgPl"
      },
      "source": [
        "def get_median_sentence_length(input):\r\n",
        "  punctuations = list(string.punctuation) + ['“','”','...',\"''\",'’','``', \"'\", \"‘\", '[', ']']\r\n",
        "  sentence_lengths = []\r\n",
        "  for sentence in df[df[classifier_dict[input]]==input]['tokenized_txt']:\r\n",
        "    sentence_list = sentence.split()\r\n",
        "    no_punctuation_tokens = [word for word in sentence_list if word not in punctuations]\r\n",
        "    no_punctuation_tokens = [word for word in no_punctuation_tokens if len(word) > 0]\r\n",
        "    sentence_lengths.append(len(no_punctuation_tokens))\r\n",
        "  return np.median(sentence_lengths)"
      ],
      "execution_count": 83,
      "outputs": []
    },
    {
      "cell_type": "code",
      "metadata": {
        "colab": {
          "base_uri": "https://localhost:8080/"
        },
        "id": "11vGCUjMdgWq",
        "outputId": "96b35c46-ef19-4a14-d3ab-d50e737c6220"
      },
      "source": [
        "for author in df['author'].unique():\r\n",
        "  print(author)\r\n",
        "  print(get_median_sentence_length(author))\r\n",
        "  print()"
      ],
      "execution_count": 86,
      "outputs": [
        {
          "output_type": "stream",
          "text": [
            "plato\n",
            "20.0\n",
            "\n",
            "aristotle\n",
            "26.0\n",
            "\n",
            "locke\n",
            "34.0\n",
            "\n",
            "hume\n",
            "33.0\n",
            "\n",
            "berkeley\n",
            "23.0\n",
            "\n",
            "spinoza\n",
            "25.0\n",
            "\n",
            "leibniz\n",
            "28.0\n",
            "\n",
            "descartes\n",
            "42.0\n",
            "\n",
            "malebranche\n",
            "29.0\n",
            "\n",
            "russell\n",
            "26.0\n",
            "\n",
            "moore\n",
            "30.0\n",
            "\n",
            "wittgenstein\n",
            "16.0\n",
            "\n",
            "lewis\n",
            "19.0\n",
            "\n",
            "quine\n",
            "21.0\n",
            "\n",
            "popper\n",
            "23.0\n",
            "\n",
            "kripke\n",
            "21.0\n",
            "\n",
            "foucault\n",
            "30.0\n",
            "\n",
            "derrida\n",
            "23.0\n",
            "\n",
            "deleuze\n",
            "26.0\n",
            "\n",
            "merleau-ponty\n",
            "29.0\n",
            "\n",
            "husserl\n",
            "29.0\n",
            "\n",
            "heidegger\n",
            "20.0\n",
            "\n",
            "kant\n",
            "33.0\n",
            "\n",
            "fichte\n",
            "27.0\n",
            "\n",
            "hegel\n",
            "29.0\n",
            "\n",
            "marx\n",
            "24.0\n",
            "\n",
            "lenin\n",
            "28.0\n",
            "\n",
            "smith\n",
            "33.0\n",
            "\n",
            "ricardo\n",
            "33.0\n",
            "\n",
            "keynes\n",
            "32.0\n",
            "\n"
          ],
          "name": "stdout"
        }
      ]
    },
    {
      "cell_type": "code",
      "metadata": {
        "id": "9PR0vrlChI8m"
      },
      "source": [
        ""
      ],
      "execution_count": null,
      "outputs": []
    }
  ]
}