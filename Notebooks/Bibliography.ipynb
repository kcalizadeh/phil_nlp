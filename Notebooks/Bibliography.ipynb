'{
  "nbformat": 4,
  "nbformat_minor": 0,
  "metadata": {
    "colab": {
      "name": "Bibliography.ipynb",
      "provenance": [],
      "toc_visible": true
    },
    "kernelspec": {
      "name": "python3",
      "display_name": "Python 3"
    }
  },
  "cells": [
    {
      "cell_type": "markdown",
      "metadata": {
        "id": "G8doahafvnUo"
      },
      "source": [
        "### Analytic"
      ]
    },
    {
      "cell_type": "markdown",
      "metadata": {
        "id": "6iR8vwDSvpX7"
      },
      "source": [
        "#### Russell"
      ]
    },
    {
      "cell_type": "markdown",
      "metadata": {
        "id": "cJvz9kilfuCd"
      },
      "source": [
        "Russell, Bertrand. *The Problems of Philosophy*. 2004. *Project Gutenberg*, [www.gutenberg.org/ebooks/5827](https://www.gutenberg.org/ebooks/5827).\r\n",
        "\r\n",
        "Russell, Bertrand. *The Analysis of Mind*. 2008. *Project Gutenberg*, [www.gutenberg.org/ebooks/2529](https://www.gutenberg.org/ebooks/2529)."
      ]
    },
    {
      "cell_type": "markdown",
      "metadata": {
        "id": "TY7GGMBwfu3-"
      },
      "source": [
        "#### Moore"
      ]
    },
    {
      "cell_type": "markdown",
      "metadata": {
        "id": "F17DuodegFpI"
      },
      "source": [
        "Moore, G. E. *Philosophical Studies*. 2015. *Project Gutenberg*, [www.gutenberg.org/ebooks/50141](https://www.gutenberg.org/ebooks/50141)."
      ]
    },
    {
      "cell_type": "markdown",
      "metadata": {
        "id": "pigsfNmDfwi_"
      },
      "source": [
        "#### Kripke"
      ]
    },
    {
      "cell_type": "markdown",
      "metadata": {
        "id": "7L9-haLdfyCE"
      },
      "source": [
        "Kripke, Saul A. *Naming and Necessity*. Basil Blackwell Ltd, 1990.\r\n",
        "\r\n",
        "Kripke, Saul A. *Philosophical Troubles: Collected Papers*. Oxford University Press, 2011. vol 1."
      ]
    },
    {
      "cell_type": "markdown",
      "metadata": {
        "id": "Ing6KlezfzOw"
      },
      "source": [
        "#### Wittgenstein"
      ]
    },
    {
      "cell_type": "markdown",
      "metadata": {
        "id": "wIVzQEZmf1Cu"
      },
      "source": [
        "Wittgenstein, Ludwig. *Tractatus Logico-Philosophicus*. Translated by D. F. Pears and B. F. McGuiness, Routledge, 2001.\r\n",
        "\r\n",
        "Wittgenstein, Ludwig. *Philosophical Investigation*. Translated by G. E. M. Anscombe, Blackwell, 1986."
      ]
    },
    {
      "cell_type": "markdown",
      "metadata": {
        "id": "IB5wy3DLf1aa"
      },
      "source": [
        "#### Quine"
      ]
    },
    {
      "cell_type": "markdown",
      "metadata": {
        "id": "Jng2VqPBf2S3"
      },
      "source": [
        "Quine, W. V. O. *Quintessence: Basic Readings from the Philosophy of W. V. O. Quine*. Edited by Roger F. Gibson, Jr. Harvard University Press, 2004."
      ]
    },
    {
      "cell_type": "markdown",
      "metadata": {
        "id": "oTlhK0xzgM-B"
      },
      "source": [
        "#### Popper"
      ]
    },
    {
      "cell_type": "markdown",
      "metadata": {
        "id": "sYEl5Nv-gN_N"
      },
      "source": [
        "Popper, Karl. *The Logic of Scientific Discovery*. Translated by Karl Popper, Routledge, 2002."
      ]
    },
    {
      "cell_type": "markdown",
      "metadata": {
        "id": "VypsBsVbf2mm"
      },
      "source": [
        "#### Lewis"
      ]
    },
    {
      "cell_type": "markdown",
      "metadata": {
        "id": "CM1M41Qef4Nt"
      },
      "source": [
        "Lewis, David. *Philosophical Papers*. Oxford University Press, 2008. 2 vols."
      ]
    },
    {
      "cell_type": "markdown",
      "metadata": {
        "id": "37ZHRMIfvLOf"
      },
      "source": [
        "### Aristotle"
      ]
    },
    {
      "cell_type": "markdown",
      "metadata": {
        "id": "5apWPH0rvMwx"
      },
      "source": [
        "Aristotle. *The Complete Works of Aristotle*. Edited by Jonathan Barnes, Princeton University Press, 1991. 2 vols."
      ]
    },
    {
      "cell_type": "markdown",
      "metadata": {
        "id": "jIz-2FQwvpyw"
      },
      "source": [
        "### Capitalism"
      ]
    },
    {
      "cell_type": "markdown",
      "metadata": {
        "id": "2basIWu_vr4P"
      },
      "source": [
        "#### Keynes"
      ]
    },
    {
      "cell_type": "markdown",
      "metadata": {
        "id": "434yc7kyfWbc"
      },
      "source": [
        "Keynes, John Maynard. *The General Theory of Employment, Interest, and Money*. 2003. *Project Gutenberg Australia*, [gutenberg.net.au/ebooks03/0300071h.html](http://gutenberg.net.au/ebooks03/0300071h.html)."
      ]
    },
    {
      "cell_type": "markdown",
      "metadata": {
        "id": "iL6yYidzfYUU"
      },
      "source": [
        "#### Ricardo"
      ]
    },
    {
      "cell_type": "markdown",
      "metadata": {
        "id": "BJk_mFRrfZdn"
      },
      "source": [
        "Ricardo, David. *On the Principles of Political Economy and Taxation*. 2010. *Project Gutenberg*, [www.gutenberg.org/ebooks/33310](https://www.gutenberg.org/ebooks/33310)."
      ]
    },
    {
      "cell_type": "markdown",
      "metadata": {
        "id": "gHoIF9R9faqD"
      },
      "source": [
        "#### Smith"
      ]
    },
    {
      "cell_type": "markdown",
      "metadata": {
        "id": "k8PwpVxhfb9F"
      },
      "source": [
        "Smith, Adam. *An Inquiry into the Nature and Causes of the Wealth of Nations*. 2009. *Project Gutenberg*, [www.gutenberg.org/ebooks/3300](https://www.gutenberg.org/ebooks/3300)."
      ]
    },
    {
      "cell_type": "markdown",
      "metadata": {
        "id": "W81wJAbdvsFH"
      },
      "source": [
        "### Communism"
      ]
    },
    {
      "cell_type": "markdown",
      "metadata": {
        "id": "NY8XtRZEfFpa"
      },
      "source": [
        "#### Marx"
      ]
    },
    {
      "cell_type": "markdown",
      "metadata": {
        "id": "EhpSnyPsfG7N"
      },
      "source": [
        "Marx, Karl. *Capital*. Translated by Samuel Moore and Edward Aveling, Progress Publishers, 1887.\r\n",
        "\r\n",
        "Marx, Karl and Engels, Frederick. *Manifest of the Communist Party*. Translated by Samuel Moore, Foreign Language Press, 1970."
      ]
    },
    {
      "cell_type": "markdown",
      "metadata": {
        "id": "9co7aX4IfKeL"
      },
      "source": [
        "#### Lenin"
      ]
    },
    {
      "cell_type": "markdown",
      "metadata": {
        "id": "ZvjI5sASfL_v"
      },
      "source": [
        "Lenin, Vladimir Ilyich. *Essential Works of Lenin*. Bantam, 1966."
      ]
    },
    {
      "cell_type": "markdown",
      "metadata": {
        "id": "eDIMUk5Ovhhe"
      },
      "source": [
        "### Continental"
      ]
    },
    {
      "cell_type": "markdown",
      "metadata": {
        "id": "JQxI4n-mvmwe"
      },
      "source": [
        "#### Foucault"
      ]
    },
    {
      "cell_type": "markdown",
      "metadata": {
        "id": "sP942HexevuK"
      },
      "source": [
        "Foucault, Michel. *The Order of Things: an Archeology of the Human Sciences*. Routledge, 2002.\r\n",
        " \r\n",
        "Foucault, Michel. *History of Madness*. Translated by Jonathan Murphy and Jean Khalfa, Routledge, 2006."
      ]
    },
    {
      "cell_type": "markdown",
      "metadata": {
        "id": "Hl1rMHlUez77"
      },
      "source": [
        "#### Derrida"
      ]
    },
    {
      "cell_type": "markdown",
      "metadata": {
        "id": "a_57U3ree2Go"
      },
      "source": [
        "Derrida, Jacques. *Writing and Difference*. Translated by Alan Bass, Routledge, 2001."
      ]
    },
    {
      "cell_type": "markdown",
      "metadata": {
        "id": "uhNaQJRJe5KQ"
      },
      "source": [
        "#### Deleuze"
      ]
    },
    {
      "cell_type": "markdown",
      "metadata": {
        "id": "UKRPzGKue6yX"
      },
      "source": [
        "Deleuze, Gilles, and Buattari, Felix. *Anti-Oedipus: Capitalism and Schizophrenia*. Translated by Robert Hurley, Mark Seem, and Helen R. Lane, University of Minnesota Press, 1997.\r\n",
        "\r\n",
        "Deleuze, Gilles. *Difference and Repetition*. Translated by Paul Patton, Continuum, 1994."
      ]
    },
    {
      "cell_type": "markdown",
      "metadata": {
        "id": "9o8s-AGYvPr9"
      },
      "source": [
        "### Empiricism"
      ]
    },
    {
      "cell_type": "markdown",
      "metadata": {
        "id": "aPCJ9KScvQ8e"
      },
      "source": [
        "#### Locke"
      ]
    },
    {
      "cell_type": "markdown",
      "metadata": {
        "id": "i7iEKciS8DUg"
      },
      "source": [
        "Locke, John. *An Essay Concerning Human Understanding*. 2004. *Project Gutenberg*, www.gutenberg.org/ebooks/10615. 2 vols.\r\n",
        "\r\n",
        "Locke, John. *Second Treatise of Government*. 2010. *Project Gutenberg*, www.gutenberg.org/ebooks/7370."
      ]
    },
    {
      "cell_type": "markdown",
      "metadata": {
        "id": "bPTLw-5A9F2Y"
      },
      "source": [
        "#### Hume"
      ]
    },
    {
      "cell_type": "markdown",
      "metadata": {
        "id": "mcqxeQsY9KtV"
      },
      "source": [
        "Hume, David. *A Treatise of Human Nature*. 2003. *Project Gutenberg*, www.gutenberg.org/ebooks/4705.\r\n",
        "\r\n",
        "Hume, David. *Dialogues Concerning Natural Religion*. 2009. *Project Gutenberg*, www.gutenberg.org/ebooks/4583."
      ]
    },
    {
      "cell_type": "markdown",
      "metadata": {
        "id": "Z5FKGcGWDVrx"
      },
      "source": [
        "#### Berkeley"
      ]
    },
    {
      "cell_type": "markdown",
      "metadata": {
        "id": "UR77SgymDXhh"
      },
      "source": [
        "Berkeley, George. *A Treatise Concerning the Principles of Human Knowledge*. 2009. *Project Gutenberg*, www.gutenberg.org/ebooks/4723.\r\n",
        "\r\n",
        "Berkeley, George. *Three Dialogues between Hylas and Philonous in Opposition to Sceptics and Atheists*. 2009. *Project Gutenberg*, www.gutenberg.org/ebooks/4724."
      ]
    },
    {
      "cell_type": "markdown",
      "metadata": {
        "id": "1ePm7SPavVpL"
      },
      "source": [
        "### German Idealism"
      ]
    },
    {
      "cell_type": "markdown",
      "metadata": {
        "id": "lFURBKfdvXat"
      },
      "source": [
        "#### Hegel"
      ]
    },
    {
      "cell_type": "markdown",
      "metadata": {
        "id": "nVqOH5bWdV4C"
      },
      "source": [
        "Hegel, Georg Wilhelm Friedrich. *The Science of Logic*. Translated by George di Giovanni, Cambridge University Press, 2010.\r\n",
        "\r\n",
        "Hegel, Georg Wilhelm Friedrich. *Phenomenology of Spirit*. Translated by A. V. Miller, Oxford University Press, 1977.\r\n",
        "\r\n",
        "Hegel, Georg Wilhelm Friedrich. *Elements of the Philosophy of Right*. Translated by H. B. Nisbet, Cambridge University Press, 1991."
      ]
    },
    {
      "cell_type": "markdown",
      "metadata": {
        "id": "DycWrMvUcxh0"
      },
      "source": [
        "#### Fichte"
      ]
    },
    {
      "cell_type": "markdown",
      "metadata": {
        "id": "f5XPskRpeGr1"
      },
      "source": [
        "Fichte, Johan Gottlieb. *The System of Ethics According to the Principles of the Wissenschaftslehre*. Translated by Daniel Breazeale and Günter Zöller, Cambridge University Press, 2005."
      ]
    },
    {
      "cell_type": "markdown",
      "metadata": {
        "id": "WljtSqdPczEK"
      },
      "source": [
        "#### Kant"
      ]
    },
    {
      "cell_type": "markdown",
      "metadata": {
        "id": "_UXekxYoeKME"
      },
      "source": [
        "Kant, Immanuel. *Critique of Practical Reason*. Translated by Werner S. Pluhar, Hackett Publishing Company, 2002.\r\n",
        "\r\n",
        "Kant, Immanuel. *Critique of Judgement*. Translated by James Creed Meredith, Oxford University Press, 2007.\r\n",
        "\r\n",
        "Kant, Immanuel. *Critique of Pure Reason*. Translated by Paul Guyer and Alan W. Wood, Cambridge  University Press, 1998."
      ]
    },
    {
      "cell_type": "markdown",
      "metadata": {
        "id": "jPYeGAJevYIb"
      },
      "source": [
        "### Phenomenology"
      ]
    },
    {
      "cell_type": "markdown",
      "metadata": {
        "id": "pFRyxIk2vgxf"
      },
      "source": [
        "#### Husserl"
      ]
    },
    {
      "cell_type": "markdown",
      "metadata": {
        "id": "WbQ7wopieabo"
      },
      "source": [
        "Husserl, Edmund. *The Idea of Phenomenology*. Translated by Lee Hardy, Kluwer Academic Publishers.\r\n",
        "\r\n",
        "Husserl, Edmund. *The Crisis of European Sciences and Transcendental Phenomenology: an Introduction to Phenomenological Philosophy*. Translated by David Carr, Northwestern University Press, 1970."
      ]
    },
    {
      "cell_type": "markdown",
      "metadata": {
        "id": "Id6Y3bflc4wB"
      },
      "source": [
        "#### Heidegger"
      ]
    },
    {
      "cell_type": "markdown",
      "metadata": {
        "id": "EvsMCQ_Ld8uW"
      },
      "source": [
        "Heidegger, Martin. *Being and Time*. Translated by Joan Stambaugh, State University of New York Press, 1996.\r\n",
        "\r\n",
        "Heidegger, Martin. *Off the Beaten Track*. Edited and Translated by Julian Young and Kenneth Haynes, Cambridge University Press, 2001."
      ]
    },
    {
      "cell_type": "markdown",
      "metadata": {
        "id": "4zKCJY7Oc69R"
      },
      "source": [
        "#### Merleau-Ponty"
      ]
    },
    {
      "cell_type": "markdown",
      "metadata": {
        "id": "pC1huarEeinp"
      },
      "source": [
        "Merleau-Ponty, Maurice. *Phenomenology of Perception*. Translated by Colin Smith, Routledge, 2002."
      ]
    },
    {
      "cell_type": "markdown",
      "metadata": {
        "id": "Nl-8GqvGvItf"
      },
      "source": [
        "### Plato"
      ]
    },
    {
      "cell_type": "markdown",
      "metadata": {
        "id": "iNeoacsPvK5w"
      },
      "source": [
        "Plato. *Complete Works*. Edited by John M. Cooper, Hacket Publishing Company, 1997."
      ]
    },
    {
      "cell_type": "markdown",
      "metadata": {
        "id": "5DGEQzb3vNEm"
      },
      "source": [
        "### Rationalism"
      ]
    },
    {
      "cell_type": "markdown",
      "metadata": {
        "id": "eHy5BhacvPd4"
      },
      "source": [
        "#### Spinoza"
      ]
    },
    {
      "cell_type": "markdown",
      "metadata": {
        "id": "oZHh2lAIJ3fg"
      },
      "source": [
        "Spinoza, Benedict de. *Ethics*. Translated by R.H.M. Elwes. 2003. *Project Gutenberg*, www.gutenberg.org/ebooks/3800.\r\n",
        "\r\n",
        "Spinoza, Benedict de. *On the Improvement of the Understanding*. Translated by R.H.M. Elwes. 1997. *Project Gutenberg*, www.gutenberg.org/ebooks/1016."
      ]
    },
    {
      "cell_type": "markdown",
      "metadata": {
        "id": "0agf3WD6LZyP"
      },
      "source": [
        "#### Leibniz"
      ]
    },
    {
      "cell_type": "markdown",
      "metadata": {
        "id": "ISgBWC2MLs2P"
      },
      "source": [
        "Leibniz, G.W.. *Theodicy: Essays on the Goodness of God, the Freedom of Man, and the Origin of Evil*. Translated by E.M. Huggard. 2005. *Project Gutenberg*, www.gutenberg.org/ebooks/17147."
      ]
    },
    {
      "cell_type": "markdown",
      "metadata": {
        "id": "nJAiwULC5VfZ"
      },
      "source": [
        "#### Descartes"
      ]
    },
    {
      "cell_type": "markdown",
      "metadata": {
        "id": "0K2pJn5Q5W3y"
      },
      "source": [
        "Descartes, René. *A Discourse on Method*. Translated by John Veitch. 2008. *Project Gutenberg*, www.gutenberg.org/ebooks/59.\r\n",
        "\r\n",
        "Descartes, René. *Meditations on First Philosophy*. Translated by Michael Moriarty, Oxford University Press, 2008.\r\n",
        "\r\n"
      ]
    },
    {
      "cell_type": "markdown",
      "metadata": {
        "id": "ClZQDfMD5O5E"
      },
      "source": [
        "#### Malebranche"
      ]
    },
    {
      "cell_type": "markdown",
      "metadata": {
        "id": "XYMp97tp5Q2S"
      },
      "source": [
        "Malebranche, Nicolas. *The Search After Truth*. Edited by Thomas M. Lennon and Paul J. Olscamp, Cambridge University Press, 1997."
      ]
    }
  ]
}