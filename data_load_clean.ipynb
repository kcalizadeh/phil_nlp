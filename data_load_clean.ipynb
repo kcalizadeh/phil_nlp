{
  "nbformat": 4,
  "nbformat_minor": 0,
  "metadata": {
    "colab": {
      "name": "data_load_clean.ipynb",
      "provenance": [],
      "authorship_tag": "ABX9TyMyqayBlfBivmCnkppTx5Vp",
      "include_colab_link": true
    },
    "kernelspec": {
      "name": "python3",
      "display_name": "Python 3"
    }
  },
  "cells": [
    {
      "cell_type": "markdown",
      "metadata": {
        "id": "view-in-github",
        "colab_type": "text"
      },
      "source": [
        "<a href=\"https://colab.research.google.com/github/kcalizadeh/phil_nlp/blob/main/data_load_clean.ipynb\" target=\"_parent\"><img src=\"https://colab.research.google.com/assets/colab-badge.svg\" alt=\"Open In Colab\"/></a>"
      ]
    },
    {
      "cell_type": "code",
      "metadata": {
        "id": "cpcX3zNaezhg",
        "colab": {
          "base_uri": "https://localhost:8080/"
        },
        "outputId": "3d1c3cc4-84fd-45d9-d84e-a07567d2feef"
      },
      "source": [
        "# this cell mounts drive, sets the correct directory, then imports all functions\r\n",
        "# and relevant libraries via the functions.py file\r\n",
        "from google.colab import drive\r\n",
        "import sys\r\n",
        "\r\n",
        "# install relevent libraries not included with colab\r\n",
        "!pip install lime\r\n",
        "!pip install symspellpy\r\n",
        "\r\n",
        "drive.mount('/gdrive',force_remount=True)\r\n",
        "\r\n",
        "drive_path = '/gdrive/MyDrive/Colab_Projects/Phil_NLP'\r\n",
        "\r\n",
        "sys.path.append(drive_path)\r\n",
        "\r\n",
        "from functions import *"
      ],
      "execution_count": 2,
      "outputs": [
        {
          "output_type": "stream",
          "text": [
            "Collecting lime\n",
            "\u001b[?25l  Downloading https://files.pythonhosted.org/packages/f5/86/91a13127d83d793ecb50eb75e716f76e6eda809b6803c5a4ff462339789e/lime-0.2.0.1.tar.gz (275kB)\n",
            "\r\u001b[K     |█▏                              | 10kB 15.2MB/s eta 0:00:01\r\u001b[K     |██▍                             | 20kB 20.8MB/s eta 0:00:01\r\u001b[K     |███▋                            | 30kB 21.0MB/s eta 0:00:01\r\u001b[K     |████▊                           | 40kB 11.7MB/s eta 0:00:01\r\u001b[K     |██████                          | 51kB 8.5MB/s eta 0:00:01\r\u001b[K     |███████▏                        | 61kB 8.1MB/s eta 0:00:01\r\u001b[K     |████████▎                       | 71kB 8.8MB/s eta 0:00:01\r\u001b[K     |█████████▌                      | 81kB 9.1MB/s eta 0:00:01\r\u001b[K     |██████████▊                     | 92kB 8.6MB/s eta 0:00:01\r\u001b[K     |███████████▉                    | 102kB 7.9MB/s eta 0:00:01\r\u001b[K     |█████████████                   | 112kB 7.9MB/s eta 0:00:01\r\u001b[K     |██████████████▎                 | 122kB 7.9MB/s eta 0:00:01\r\u001b[K     |███████████████▌                | 133kB 7.9MB/s eta 0:00:01\r\u001b[K     |████████████████▋               | 143kB 7.9MB/s eta 0:00:01\r\u001b[K     |█████████████████▉              | 153kB 7.9MB/s eta 0:00:01\r\u001b[K     |███████████████████             | 163kB 7.9MB/s eta 0:00:01\r\u001b[K     |████████████████████▏           | 174kB 7.9MB/s eta 0:00:01\r\u001b[K     |█████████████████████▍          | 184kB 7.9MB/s eta 0:00:01\r\u001b[K     |██████████████████████▋         | 194kB 7.9MB/s eta 0:00:01\r\u001b[K     |███████████████████████▊        | 204kB 7.9MB/s eta 0:00:01\r\u001b[K     |█████████████████████████       | 215kB 7.9MB/s eta 0:00:01\r\u001b[K     |██████████████████████████▏     | 225kB 7.9MB/s eta 0:00:01\r\u001b[K     |███████████████████████████▍    | 235kB 7.9MB/s eta 0:00:01\r\u001b[K     |████████████████████████████▌   | 245kB 7.9MB/s eta 0:00:01\r\u001b[K     |█████████████████████████████▊  | 256kB 7.9MB/s eta 0:00:01\r\u001b[K     |███████████████████████████████ | 266kB 7.9MB/s eta 0:00:01\r\u001b[K     |████████████████████████████████| 276kB 7.9MB/s \n",
            "\u001b[?25hRequirement already satisfied: matplotlib in /usr/local/lib/python3.6/dist-packages (from lime) (3.2.2)\n",
            "Requirement already satisfied: numpy in /usr/local/lib/python3.6/dist-packages (from lime) (1.19.4)\n",
            "Requirement already satisfied: scipy in /usr/local/lib/python3.6/dist-packages (from lime) (1.4.1)\n",
            "Requirement already satisfied: tqdm in /usr/local/lib/python3.6/dist-packages (from lime) (4.41.1)\n",
            "Requirement already satisfied: scikit-learn>=0.18 in /usr/local/lib/python3.6/dist-packages (from lime) (0.22.2.post1)\n",
            "Requirement already satisfied: scikit-image>=0.12 in /usr/local/lib/python3.6/dist-packages (from lime) (0.16.2)\n",
            "Requirement already satisfied: pyparsing!=2.0.4,!=2.1.2,!=2.1.6,>=2.0.1 in /usr/local/lib/python3.6/dist-packages (from matplotlib->lime) (2.4.7)\n",
            "Requirement already satisfied: kiwisolver>=1.0.1 in /usr/local/lib/python3.6/dist-packages (from matplotlib->lime) (1.3.1)\n",
            "Requirement already satisfied: cycler>=0.10 in /usr/local/lib/python3.6/dist-packages (from matplotlib->lime) (0.10.0)\n",
            "Requirement already satisfied: python-dateutil>=2.1 in /usr/local/lib/python3.6/dist-packages (from matplotlib->lime) (2.8.1)\n",
            "Requirement already satisfied: joblib>=0.11 in /usr/local/lib/python3.6/dist-packages (from scikit-learn>=0.18->lime) (1.0.0)\n",
            "Requirement already satisfied: pillow>=4.3.0 in /usr/local/lib/python3.6/dist-packages (from scikit-image>=0.12->lime) (7.0.0)\n",
            "Requirement already satisfied: PyWavelets>=0.4.0 in /usr/local/lib/python3.6/dist-packages (from scikit-image>=0.12->lime) (1.1.1)\n",
            "Requirement already satisfied: imageio>=2.3.0 in /usr/local/lib/python3.6/dist-packages (from scikit-image>=0.12->lime) (2.4.1)\n",
            "Requirement already satisfied: networkx>=2.0 in /usr/local/lib/python3.6/dist-packages (from scikit-image>=0.12->lime) (2.5)\n",
            "Requirement already satisfied: six in /usr/local/lib/python3.6/dist-packages (from cycler>=0.10->matplotlib->lime) (1.15.0)\n",
            "Requirement already satisfied: decorator>=4.3.0 in /usr/local/lib/python3.6/dist-packages (from networkx>=2.0->scikit-image>=0.12->lime) (4.4.2)\n",
            "Building wheels for collected packages: lime\n",
            "  Building wheel for lime (setup.py) ... \u001b[?25l\u001b[?25hdone\n",
            "  Created wheel for lime: filename=lime-0.2.0.1-cp36-none-any.whl size=283846 sha256=308e74a9efd1293ab2e074d8fc3ee5a5e5e16c55da56498b8c2d08c0a326bf74\n",
            "  Stored in directory: /root/.cache/pip/wheels/4c/4f/a5/0bc765457bd41378bf3ce8d17d7495369d6e7ca3b712c60c89\n",
            "Successfully built lime\n",
            "Installing collected packages: lime\n",
            "Successfully installed lime-0.2.0.1\n",
            "Collecting symspellpy\n",
            "\u001b[?25l  Downloading https://files.pythonhosted.org/packages/99/af/e71fcca6a42b6a63f518b0c1627e1f67822815cb0cf71e6af05acbd75c78/symspellpy-6.7.0-py3-none-any.whl (2.6MB)\n",
            "\u001b[K     |████████████████████████████████| 2.6MB 9.1MB/s \n",
            "\u001b[?25hRequirement already satisfied: numpy>=1.13.1 in /usr/local/lib/python3.6/dist-packages (from symspellpy) (1.19.4)\n",
            "Installing collected packages: symspellpy\n",
            "Successfully installed symspellpy-6.7.0\n",
            "Mounted at /gdrive\n",
            "[nltk_data] Downloading package stopwords to /root/nltk_data...\n",
            "[nltk_data]   Unzipping corpora/stopwords.zip.\n",
            "[nltk_data] Downloading package stopwords to /root/nltk_data...\n",
            "[nltk_data]   Package stopwords is already up-to-date!\n"
          ],
          "name": "stdout"
        }
      ]
    },
    {
      "cell_type": "code",
      "metadata": {
        "id": "XGMALplMm4rD"
      },
      "source": [
        "plato_txt = get_text(drive_path + '/phil_txts/plato_complete_works.txt')"
      ],
      "execution_count": 3,
      "outputs": []
    },
    {
      "cell_type": "code",
      "metadata": {
        "id": "vKNj8xVynvwf"
      },
      "source": [
        ""
      ],
      "execution_count": null,
      "outputs": []
    }
  ]
}