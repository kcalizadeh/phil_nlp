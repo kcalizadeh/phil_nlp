{
  "nbformat": 4,
  "nbformat_minor": 0,
  "metadata": {
    "colab": {
      "name": "non_neural_models.ipynb",
      "provenance": [],
      "authorship_tag": "ABX9TyPkngAqzDb2uOM0pi45H5J1",
      "include_colab_link": true
    },
    "kernelspec": {
      "name": "python3",
      "display_name": "Python 3"
    }
  },
  "cells": [
    {
      "cell_type": "markdown",
      "metadata": {
        "id": "view-in-github",
        "colab_type": "text"
      },
      "source": [
        "<a href=\"https://colab.research.google.com/github/kcalizadeh/phil_nlp/blob/master/non_neural_models.ipynb\" target=\"_parent\"><img src=\"https://colab.research.google.com/assets/colab-badge.svg\" alt=\"Open In Colab\"/></a>"
      ]
    },
    {
      "cell_type": "code",
      "metadata": {
        "colab": {
          "base_uri": "https://localhost:8080/"
        },
        "id": "GEhii3_rOJJY",
        "outputId": "8faeec86-b626-4d3c-ea1e-e0daa1e26e18"
      },
      "source": [
        "# this cell mounts drive, sets the correct directory, then imports all functions\n",
        "# and relevant libraries via the functions.py file\n",
        "from google.colab import drive\n",
        "import sys\n",
        "\n",
        "# install relevent libraries not included with colab\n",
        "!pip install lime\n",
        "!pip install symspellpy\n",
        "\n",
        "drive.mount('/gdrive',force_remount=True)\n",
        "\n",
        "drive_path = '/gdrive/MyDrive/Colab_Projects/Phil_NLP'\n",
        "\n",
        "sys.path.append(drive_path)"
      ],
      "execution_count": 59,
      "outputs": [
        {
          "output_type": "stream",
          "text": [
            "Requirement already satisfied: lime in /usr/local/lib/python3.6/dist-packages (0.2.0.1)\n",
            "Requirement already satisfied: scikit-learn>=0.18 in /usr/local/lib/python3.6/dist-packages (from lime) (0.22.2.post1)\n",
            "Requirement already satisfied: scipy in /usr/local/lib/python3.6/dist-packages (from lime) (1.4.1)\n",
            "Requirement already satisfied: numpy in /usr/local/lib/python3.6/dist-packages (from lime) (1.19.4)\n",
            "Requirement already satisfied: scikit-image>=0.12 in /usr/local/lib/python3.6/dist-packages (from lime) (0.16.2)\n",
            "Requirement already satisfied: matplotlib in /usr/local/lib/python3.6/dist-packages (from lime) (3.2.2)\n",
            "Requirement already satisfied: tqdm in /usr/local/lib/python3.6/dist-packages (from lime) (4.41.1)\n",
            "Requirement already satisfied: joblib>=0.11 in /usr/local/lib/python3.6/dist-packages (from scikit-learn>=0.18->lime) (1.0.0)\n",
            "Requirement already satisfied: networkx>=2.0 in /usr/local/lib/python3.6/dist-packages (from scikit-image>=0.12->lime) (2.5)\n",
            "Requirement already satisfied: imageio>=2.3.0 in /usr/local/lib/python3.6/dist-packages (from scikit-image>=0.12->lime) (2.4.1)\n",
            "Requirement already satisfied: pillow>=4.3.0 in /usr/local/lib/python3.6/dist-packages (from scikit-image>=0.12->lime) (7.0.0)\n",
            "Requirement already satisfied: PyWavelets>=0.4.0 in /usr/local/lib/python3.6/dist-packages (from scikit-image>=0.12->lime) (1.1.1)\n",
            "Requirement already satisfied: cycler>=0.10 in /usr/local/lib/python3.6/dist-packages (from matplotlib->lime) (0.10.0)\n",
            "Requirement already satisfied: pyparsing!=2.0.4,!=2.1.2,!=2.1.6,>=2.0.1 in /usr/local/lib/python3.6/dist-packages (from matplotlib->lime) (2.4.7)\n",
            "Requirement already satisfied: python-dateutil>=2.1 in /usr/local/lib/python3.6/dist-packages (from matplotlib->lime) (2.8.1)\n",
            "Requirement already satisfied: kiwisolver>=1.0.1 in /usr/local/lib/python3.6/dist-packages (from matplotlib->lime) (1.3.1)\n",
            "Requirement already satisfied: decorator>=4.3.0 in /usr/local/lib/python3.6/dist-packages (from networkx>=2.0->scikit-image>=0.12->lime) (4.4.2)\n",
            "Requirement already satisfied: six in /usr/local/lib/python3.6/dist-packages (from cycler>=0.10->matplotlib->lime) (1.15.0)\n",
            "Requirement already satisfied: symspellpy in /usr/local/lib/python3.6/dist-packages (6.7.0)\n",
            "Requirement already satisfied: numpy>=1.13.1 in /usr/local/lib/python3.6/dist-packages (from symspellpy) (1.19.4)\n",
            "Mounted at /gdrive\n"
          ],
          "name": "stdout"
        }
      ]
    },
    {
      "cell_type": "code",
      "metadata": {
        "colab": {
          "base_uri": "https://localhost:8080/"
        },
        "id": "uIouo_ghfc9O",
        "outputId": "22728bb4-a8de-4004-8c3c-3550522ac0cc"
      },
      "source": [
        "from functions import *\n",
        "%load_ext autoreload\n",
        "%autoreload 2"
      ],
      "execution_count": 60,
      "outputs": [
        {
          "output_type": "stream",
          "text": [
            "The autoreload extension is already loaded. To reload it, use:\n",
            "  %reload_ext autoreload\n"
          ],
          "name": "stdout"
        }
      ]
    },
    {
      "cell_type": "code",
      "metadata": {
        "colab": {
          "base_uri": "https://localhost:8080/",
          "height": 279
        },
        "id": "b1iQQ5K1fG-6",
        "outputId": "e1fce419-881d-49a2-fe69-6c6cc2a0d731"
      },
      "source": [
        "df = pd.read_csv('/gdrive/MyDrive/Colab_Projects/Phil_NLP/phil_nlp.csv')\n",
        "\n",
        "df.sample(5)"
      ],
      "execution_count": 61,
      "outputs": [
        {
          "output_type": "execute_result",
          "data": {
            "text/html": [
              "<div>\n",
              "<style scoped>\n",
              "    .dataframe tbody tr th:only-of-type {\n",
              "        vertical-align: middle;\n",
              "    }\n",
              "\n",
              "    .dataframe tbody tr th {\n",
              "        vertical-align: top;\n",
              "    }\n",
              "\n",
              "    .dataframe thead th {\n",
              "        text-align: right;\n",
              "    }\n",
              "</style>\n",
              "<table border=\"1\" class=\"dataframe\">\n",
              "  <thead>\n",
              "    <tr style=\"text-align: right;\">\n",
              "      <th></th>\n",
              "      <th>Unnamed: 0</th>\n",
              "      <th>title</th>\n",
              "      <th>author</th>\n",
              "      <th>school</th>\n",
              "      <th>sentence_spacy</th>\n",
              "      <th>sentence_str</th>\n",
              "      <th>sentence_length</th>\n",
              "      <th>sentence_lowered</th>\n",
              "    </tr>\n",
              "  </thead>\n",
              "  <tbody>\n",
              "    <tr>\n",
              "      <th>151835</th>\n",
              "      <td>172840</td>\n",
              "      <td>papers vol 1</td>\n",
              "      <td>lewis</td>\n",
              "      <td>analytic</td>\n",
              "      <td>Prepositional Objects, in.</td>\n",
              "      <td>Prepositional Objects, in.</td>\n",
              "      <td>26</td>\n",
              "      <td>prepositional objects, in.</td>\n",
              "    </tr>\n",
              "    <tr>\n",
              "      <th>268406</th>\n",
              "      <td>298801</td>\n",
              "      <td>the science of logic</td>\n",
              "      <td>hegel</td>\n",
              "      <td>german_idealism</td>\n",
              "      <td>Such a logic considers it its vocation to talk...</td>\n",
              "      <td>Such a logic considers it its vocation to talk...</td>\n",
              "      <td>190</td>\n",
              "      <td>such a logic considers it its vocation to talk...</td>\n",
              "    </tr>\n",
              "    <tr>\n",
              "      <th>2369</th>\n",
              "      <td>2885</td>\n",
              "      <td>complete works</td>\n",
              "      <td>plato</td>\n",
              "      <td>plato</td>\n",
              "      <td>Well, if that doesn suit you, you ll have to l...</td>\n",
              "      <td>Well, if that doesn suit you, you ll have to l...</td>\n",
              "      <td>82</td>\n",
              "      <td>well, if that doesn suit you, you ll have to l...</td>\n",
              "    </tr>\n",
              "    <tr>\n",
              "      <th>317125</th>\n",
              "      <td>353277</td>\n",
              "      <td>wealth of nations</td>\n",
              "      <td>smith</td>\n",
              "      <td>capitalism</td>\n",
              "      <td>The first bounties of this kind were those gra...</td>\n",
              "      <td>The first bounties of this kind were those gra...</td>\n",
              "      <td>145</td>\n",
              "      <td>the first bounties of this kind were those gra...</td>\n",
              "    </tr>\n",
              "    <tr>\n",
              "      <th>27466</th>\n",
              "      <td>35675</td>\n",
              "      <td>complete works</td>\n",
              "      <td>plato</td>\n",
              "      <td>plato</td>\n",
              "      <td>His name comes from two words meaning meat and...</td>\n",
              "      <td>His name comes from two words meaning meat and...</td>\n",
              "      <td>60</td>\n",
              "      <td>his name comes from two words meaning meat and...</td>\n",
              "    </tr>\n",
              "  </tbody>\n",
              "</table>\n",
              "</div>"
            ],
            "text/plain": [
              "        Unnamed: 0  ...                                   sentence_lowered\n",
              "151835      172840  ...                         prepositional objects, in.\n",
              "268406      298801  ...  such a logic considers it its vocation to talk...\n",
              "2369          2885  ...  well, if that doesn suit you, you ll have to l...\n",
              "317125      353277  ...  the first bounties of this kind were those gra...\n",
              "27466        35675  ...  his name comes from two words meaning meat and...\n",
              "\n",
              "[5 rows x 8 columns]"
            ]
          },
          "metadata": {
            "tags": []
          },
          "execution_count": 61
        }
      ]
    },
    {
      "cell_type": "code",
      "metadata": {
        "id": "BQkHiFOMgGaP"
      },
      "source": [
        "stopwords_list = stopwords.words('english') + list(string.punctuation) + ['“','”','...',\"''\",'’','``', \"'\", \"‘\"]\n",
        "custom_stopwords = ['–', 'also', 'something', 'cf', 'thus', 'two', 'now', 'would', 'make', 'eb', 'u', 'well', 'even', 'said', 'eg', 'us',\n",
        "                    'n', 'sein', 'e', 'da', 'therefore', 'however', 'would', 'thing', 'must', 'merely', 'way', 'since', 'latter', 'first',\n",
        "                    'B', 'mean', 'upon', 'yet', 'cannot', 'c', 'C', 'let', 'may', 'might', \"'s\", 'b', 'ofthe', 'p.', '_', '-', 'eg', 'e.g.',\n",
        "                    'ie', 'i.e.', 'f', 'l', \"n't\", 'e.g', 'i.e', '—', '--', 'hyl', 'phil', 'one'] + stopwords_list"
      ],
      "execution_count": 62,
      "outputs": []
    },
    {
      "cell_type": "code",
      "metadata": {
        "colab": {
          "base_uri": "https://localhost:8080/"
        },
        "id": "SDSxPtQKfbfU",
        "outputId": "6c315823-3606-4e74-b168-aeb6152ffd45"
      },
      "source": [
        "smote = SMOTE()\n",
        "xtrain_smote, ytrain_smote = smote.fit_resample(tf_idf_data_train, y_train)"
      ],
      "execution_count": 7,
      "outputs": [
        {
          "output_type": "stream",
          "text": [
            "/usr/local/lib/python3.6/dist-packages/sklearn/utils/deprecation.py:87: FutureWarning: Function safe_indexing is deprecated; safe_indexing is deprecated in version 0.22 and will be removed in version 0.24.\n",
            "  warnings.warn(msg, category=FutureWarning)\n"
          ],
          "name": "stderr"
        }
      ]
    },
    {
      "cell_type": "code",
      "metadata": {
        "id": "dzXIcBOxfcMB"
      },
      "source": [
        "x_train, x_test, y_train, y_test = train_test_split(df['sentence_str'], df['school'])"
      ],
      "execution_count": 63,
      "outputs": []
    },
    {
      "cell_type": "code",
      "metadata": {
        "id": "yRIz_TuLf1wl"
      },
      "source": [
        "tfidvectorizer = TfidfVectorizer(decode_error='ignore', stop_words=custom_stopwords)\n",
        "tf_idf_data_train = tfidvectorizer.fit_transform(x_train)\n",
        "tf_idf_data_test = tfidvectorizer.transform(x_test)"
      ],
      "execution_count": 64,
      "outputs": []
    },
    {
      "cell_type": "code",
      "metadata": {
        "id": "Sl25HeAsj_sP"
      },
      "source": [
        "from collections import Counter\r\n",
        "from sklearn.datasets import make_classification\r\n",
        "from imblearn.under_sampling import RandomUnderSampler\r\n",
        "from imblearn.over_sampling import RandomOverSampler"
      ],
      "execution_count": 65,
      "outputs": []
    },
    {
      "cell_type": "code",
      "metadata": {
        "id": "IefIM_LvjFqT"
      },
      "source": [
        "from sklearn.preprocessing import LabelEncoder\r\n",
        "\r\n",
        "y_train_dummies = pd.get_dummies(y_train)\r\n",
        "y_classes = y_train_dummies.idxmax(1, skipna=False)\r\n",
        "\r\n",
        "# Instantiate the label encoder\r\n",
        "le = LabelEncoder()\r\n",
        "\r\n",
        "# Fit the label encoder to our label series\r\n",
        "le.fit(list(y_classes))\r\n",
        "\r\n",
        "# Create integer based labels Series\r\n",
        "y_integers = le.transform(list(y_classes))\r\n",
        "\r\n",
        "# Create dict of labels : integer representation\r\n",
        "labels_and_integers = dict(zip(y_classes, y_integers))\r\n",
        "\r\n",
        "from sklearn.utils.class_weight import compute_class_weight, compute_sample_weight\r\n",
        "\r\n",
        "class_weights = compute_class_weight('balanced', np.unique(y_integers), y_integers)\r\n",
        "sample_weights = compute_sample_weight('balanced', y_integers)\r\n",
        "\r\n",
        "class_weights_dict = dict(zip(le.transform(list(le.classes_)), class_weights))\r\n",
        "\r\n",
        "y_train = y_train.apply(lambda x: labels_and_integers[x])\r\n",
        "y_test = y_test.apply(lambda x: labels_and_integers[x])"
      ],
      "execution_count": 66,
      "outputs": []
    },
    {
      "cell_type": "code",
      "metadata": {
        "colab": {
          "base_uri": "https://localhost:8080/"
        },
        "id": "CFtQzYm5lRtQ",
        "outputId": "952f0b0c-0e2a-4e3d-cc38-1453fbb5f398"
      },
      "source": [
        "labels_and_integers"
      ],
      "execution_count": 67,
      "outputs": [
        {
          "output_type": "execute_result",
          "data": {
            "text/plain": [
              "{'analytic': 0,\n",
              " 'aristotle': 1,\n",
              " 'capitalism': 2,\n",
              " 'communism': 3,\n",
              " 'continental': 4,\n",
              " 'empiricism': 5,\n",
              " 'german_idealism': 6,\n",
              " 'phenomenology': 7,\n",
              " 'plato': 8,\n",
              " 'rationalism': 9}"
            ]
          },
          "metadata": {
            "tags": []
          },
          "execution_count": 67
        }
      ]
    },
    {
      "cell_type": "code",
      "metadata": {
        "id": "Sk39AOQDkyKq"
      },
      "source": [
        "y_train = y_train.apply(lambda x: labels_and_integers[x])\r\n",
        "y_test = y_test.apply(lambda x: labels_and_integers[x])"
      ],
      "execution_count": 78,
      "outputs": []
    },
    {
      "cell_type": "code",
      "metadata": {
        "id": "pFssHKIVceKM"
      },
      "source": [
        "rus = RandomOverSampler(sampling_strategy='all')"
      ],
      "execution_count": 101,
      "outputs": []
    },
    {
      "cell_type": "code",
      "metadata": {
        "colab": {
          "base_uri": "https://localhost:8080/"
        },
        "id": "LDQE29-McuRx",
        "outputId": "9211068b-406c-42cc-9381-fa1c95b74b59"
      },
      "source": [
        "x_under, y_under = rus.fit_sample(tf_idf_data_train, y_train)"
      ],
      "execution_count": 102,
      "outputs": [
        {
          "output_type": "stream",
          "text": [
            "/usr/local/lib/python3.6/dist-packages/sklearn/utils/deprecation.py:87: FutureWarning: Function safe_indexing is deprecated; safe_indexing is deprecated in version 0.22 and will be removed in version 0.24.\n",
            "  warnings.warn(msg, category=FutureWarning)\n"
          ],
          "name": "stderr"
        }
      ]
    },
    {
      "cell_type": "code",
      "metadata": {
        "id": "Uu-2_8tmfbPB"
      },
      "source": [
        "nb_classifier_smote = MultinomialNB()\n",
        "nb_classifier_smote.fit(x_under, y_under)\n",
        "nb_test_smote_preds = nb_classifier_smote.predict(tf_idf_data_test)"
      ],
      "execution_count": 103,
      "outputs": []
    },
    {
      "cell_type": "code",
      "metadata": {
        "colab": {
          "base_uri": "https://localhost:8080/",
          "height": 466
        },
        "id": "1mGdnTWNgVnL",
        "outputId": "f3d7f898-820c-4143-c013-9fdb1a043f78"
      },
      "source": [
        "plot_pretty_cf(nb_classifier_smote, tf_idf_data_test, y_test, title='Multinomial NB Classifier CF w/ SMOTE')"
      ],
      "execution_count": 104,
      "outputs": [
        {
          "output_type": "display_data",
          "data": {
            "image/png": "[encoded data removed]",
            "text/plain": [
              "<Figure size 576x576 with 2 Axes>"
            ]
          },
          "metadata": {
            "tags": [],
            "needs_background": "light"
          }
        }
      ]
    },
    {
      "cell_type": "code",
      "metadata": {
        "colab": {
          "base_uri": "https://localhost:8080/"
        },
        "id": "v2CP46h_hUGW",
        "outputId": "dfbe869b-96ef-4f0b-8f18-90b5ea59c28c"
      },
      "source": [
        "print(classification_report(y_test, nb_test_smote_preds))"
      ],
      "execution_count": 105,
      "outputs": [
        {
          "output_type": "stream",
          "text": [
            "              precision    recall  f1-score   support\n",
            "\n",
            "           0       0.83      0.72      0.78     13442\n",
            "           1       0.81      0.70      0.75     12749\n",
            "           2       0.74      0.89      0.81      4665\n",
            "           3       0.76      0.79      0.77      4486\n",
            "           4       0.82      0.74      0.77      8513\n",
            "           5       0.60      0.82      0.69      5126\n",
            "           6       0.80      0.79      0.80     10564\n",
            "           7       0.75      0.73      0.74      7139\n",
            "           8       0.69      0.72      0.71      9565\n",
            "           9       0.63      0.75      0.69      5669\n",
            "\n",
            "    accuracy                           0.75     81918\n",
            "   macro avg       0.74      0.77      0.75     81918\n",
            "weighted avg       0.76      0.75      0.75     81918\n",
            "\n"
          ],
          "name": "stdout"
        }
      ]
    },
    {
      "cell_type": "code",
      "metadata": {
        "id": "HPMmebzyhZ98"
      },
      "source": [
        ""
      ],
      "execution_count": 105,
      "outputs": []
    },
    {
      "cell_type": "code",
      "metadata": {
        "id": "-Y38nc-MFsMI"
      },
      "source": [
        ""
      ],
      "execution_count": 105,
      "outputs": []
    },
    {
      "cell_type": "code",
      "metadata": {
        "id": "sZGtNU3ZFsY8"
      },
      "source": [
        ""
      ],
      "execution_count": 105,
      "outputs": []
    },
    {
      "cell_type": "code",
      "metadata": {
        "id": "Q5jR6i4TFslT"
      },
      "source": [
        ""
      ],
      "execution_count": 105,
      "outputs": []
    },
    {
      "cell_type": "code",
      "metadata": {
        "colab": {
          "base_uri": "https://localhost:8080/"
        },
        "id": "qLcrRLZSFsw_",
        "outputId": "029c61a9-263f-45a1-d34d-c51345e139dd"
      },
      "source": [
        "import nltk\r\n",
        "nltk.download('wordnet')\r\n",
        "nltk.download('punkt')\r\n",
        "nltk.download('averaged_perceptron_tagger')\r\n",
        "from nltk.stem import WordNetLemmatizer\r\n",
        "from nltk.corpus import wordnet"
      ],
      "execution_count": 106,
      "outputs": [
        {
          "output_type": "stream",
          "text": [
            "[nltk_data] Downloading package wordnet to /root/nltk_data...\n",
            "[nltk_data]   Unzipping corpora/wordnet.zip.\n",
            "[nltk_data] Downloading package punkt to /root/nltk_data...\n",
            "[nltk_data]   Unzipping tokenizers/punkt.zip.\n",
            "[nltk_data] Downloading package averaged_perceptron_tagger to\n",
            "[nltk_data]     /root/nltk_data...\n",
            "[nltk_data]   Unzipping taggers/averaged_perceptron_tagger.zip.\n"
          ],
          "name": "stdout"
        }
      ]
    },
    {
      "cell_type": "code",
      "metadata": {
        "colab": {
          "base_uri": "https://localhost:8080/"
        },
        "id": "Na9TahXgFs9G",
        "outputId": "9837a4ba-051a-4bdd-887c-386d510b7ab7"
      },
      "source": [
        "lemmatizer = WordNetLemmatizer()\r\n",
        "\r\n",
        "# function to convert nltk tag to wordnet tag\r\n",
        "def nltk_tag_to_wordnet_tag(nltk_tag):\r\n",
        "    if nltk_tag.startswith('J'):\r\n",
        "        return wordnet.ADJ\r\n",
        "    elif nltk_tag.startswith('V'):\r\n",
        "        return wordnet.VERB\r\n",
        "    elif nltk_tag.startswith('N'):\r\n",
        "        return wordnet.NOUN\r\n",
        "    elif nltk_tag.startswith('R'):\r\n",
        "        return wordnet.ADV\r\n",
        "    else:          \r\n",
        "        return None\r\n",
        "\r\n",
        "def lemmatize_sentence(sentence):\r\n",
        "    #tokenize the sentence and find the POS tag for each token\r\n",
        "    nltk_tagged = nltk.pos_tag(nltk.word_tokenize(sentence))  \r\n",
        "    #tuple of (token, wordnet_tag)\r\n",
        "    wordnet_tagged = map(lambda x: (x[0], nltk_tag_to_wordnet_tag(x[1])), nltk_tagged)\r\n",
        "    lemmatized_sentence = []\r\n",
        "    for word, tag in wordnet_tagged:\r\n",
        "        if tag is None:\r\n",
        "            #if there is no available tag, append the token as is\r\n",
        "            lemmatized_sentence.append(word)\r\n",
        "        else:        \r\n",
        "            #else use the tag to lemmatize the token\r\n",
        "            lemmatized_sentence.append(lemmatizer.lemmatize(word, tag))\r\n",
        "    return \" \".join(lemmatized_sentence)\r\n",
        "\r\n",
        "print(lemmatizer.lemmatize(\"I am loving it\")) #I am loving it\r\n",
        "print(lemmatizer.lemmatize(\"loving\")) #loving\r\n",
        "print(lemmatizer.lemmatize(\"loving\", \"v\")) #love\r\n",
        "print(lemmatize_sentence(\"I am loving it\")) #I be love it"
      ],
      "execution_count": 107,
      "outputs": [
        {
          "output_type": "stream",
          "text": [
            "I am loving it\n",
            "loving\n",
            "love\n",
            "I be love it\n"
          ],
          "name": "stdout"
        }
      ]
    },
    {
      "cell_type": "code",
      "metadata": {
        "id": "ubxSbxvRF_UC"
      },
      "source": [
        "df = df.drop('Unnamed: 0', axis=1)"
      ],
      "execution_count": 108,
      "outputs": []
    },
    {
      "cell_type": "code",
      "metadata": {
        "colab": {
          "base_uri": "https://localhost:8080/",
          "height": 279
        },
        "id": "A-EyKid0GdkQ",
        "outputId": "aa0c98ed-b6d0-474a-a6cd-fd46bbff0493"
      },
      "source": [
        "df.sample(5)"
      ],
      "execution_count": 109,
      "outputs": [
        {
          "output_type": "execute_result",
          "data": {
            "text/html": [
              "<div>\n",
              "<style scoped>\n",
              "    .dataframe tbody tr th:only-of-type {\n",
              "        vertical-align: middle;\n",
              "    }\n",
              "\n",
              "    .dataframe tbody tr th {\n",
              "        vertical-align: top;\n",
              "    }\n",
              "\n",
              "    .dataframe thead th {\n",
              "        text-align: right;\n",
              "    }\n",
              "</style>\n",
              "<table border=\"1\" class=\"dataframe\">\n",
              "  <thead>\n",
              "    <tr style=\"text-align: right;\">\n",
              "      <th></th>\n",
              "      <th>title</th>\n",
              "      <th>author</th>\n",
              "      <th>school</th>\n",
              "      <th>sentence_spacy</th>\n",
              "      <th>sentence_str</th>\n",
              "      <th>sentence_length</th>\n",
              "      <th>sentence_lowered</th>\n",
              "    </tr>\n",
              "  </thead>\n",
              "  <tbody>\n",
              "    <tr>\n",
              "      <th>132377</th>\n",
              "      <td>search after truth</td>\n",
              "      <td>malebranche</td>\n",
              "      <td>rationalism</td>\n",
              "      <td>Finally, it follows that we do not see bodies ...</td>\n",
              "      <td>Finally, it follows that we do not see bodies ...</td>\n",
              "      <td>488</td>\n",
              "      <td>finally, it follows that we do not see bodies ...</td>\n",
              "    </tr>\n",
              "    <tr>\n",
              "      <th>2602</th>\n",
              "      <td>complete works</td>\n",
              "      <td>plato</td>\n",
              "      <td>plato</td>\n",
              "      <td>is then the pusher (ōthoun), and so is well n...</td>\n",
              "      <td>is then the pusher (ōthoun), and so is well n...</td>\n",
              "      <td>58</td>\n",
              "      <td>is then the pusher (ōthoun), and so is well n...</td>\n",
              "    </tr>\n",
              "    <tr>\n",
              "      <th>253049</th>\n",
              "      <td>critique of judgement</td>\n",
              "      <td>kant</td>\n",
              "      <td>german_idealism</td>\n",
              "      <td>In the genus, now as effect, now as cause, con...</td>\n",
              "      <td>In the genus, now as effect, now as cause, con...</td>\n",
              "      <td>141</td>\n",
              "      <td>in the genus, now as effect, now as cause, con...</td>\n",
              "    </tr>\n",
              "    <tr>\n",
              "      <th>78939</th>\n",
              "      <td>complete works vol 2</td>\n",
              "      <td>aristotle</td>\n",
              "      <td>aristotle</td>\n",
              "      <td>Nor will it be found in an incomplete, but in ...</td>\n",
              "      <td>Nor will it be found in an incomplete, but in ...</td>\n",
              "      <td>65</td>\n",
              "      <td>nor will it be found in an incomplete, but in ...</td>\n",
              "    </tr>\n",
              "    <tr>\n",
              "      <th>197371</th>\n",
              "      <td>the order of things</td>\n",
              "      <td>foucault</td>\n",
              "      <td>continental</td>\n",
              "      <td>But there was a necessity lying at the heart o...</td>\n",
              "      <td>But there was a necessity lying at the heart o...</td>\n",
              "      <td>301</td>\n",
              "      <td>but there was a necessity lying at the heart o...</td>\n",
              "    </tr>\n",
              "  </tbody>\n",
              "</table>\n",
              "</div>"
            ],
            "text/plain": [
              "                        title  ...                                   sentence_lowered\n",
              "132377     search after truth  ...  finally, it follows that we do not see bodies ...\n",
              "2602           complete works  ...  is then the pusher (ōthoun), and so is well n...\n",
              "253049  critique of judgement  ...  in the genus, now as effect, now as cause, con...\n",
              "78939    complete works vol 2  ...  nor will it be found in an incomplete, but in ...\n",
              "197371    the order of things  ...  but there was a necessity lying at the heart o...\n",
              "\n",
              "[5 rows x 7 columns]"
            ]
          },
          "metadata": {
            "tags": []
          },
          "execution_count": 109
        }
      ]
    },
    {
      "cell_type": "code",
      "metadata": {
        "id": "Et2iP4eOGKT8"
      },
      "source": [
        "df['sentence_lemmatized'] = df['sentence_lowered'].apply(lemmatize_sentence)"
      ],
      "execution_count": 110,
      "outputs": []
    },
    {
      "cell_type": "code",
      "metadata": {
        "colab": {
          "base_uri": "https://localhost:8080/",
          "height": 279
        },
        "id": "tq5BTjEuKILT",
        "outputId": "690cdbe9-5ce8-42d4-ef3d-da6bef1f500f"
      },
      "source": [
        "df.sample(5)"
      ],
      "execution_count": 111,
      "outputs": [
        {
          "output_type": "execute_result",
          "data": {
            "text/html": [
              "<div>\n",
              "<style scoped>\n",
              "    .dataframe tbody tr th:only-of-type {\n",
              "        vertical-align: middle;\n",
              "    }\n",
              "\n",
              "    .dataframe tbody tr th {\n",
              "        vertical-align: top;\n",
              "    }\n",
              "\n",
              "    .dataframe thead th {\n",
              "        text-align: right;\n",
              "    }\n",
              "</style>\n",
              "<table border=\"1\" class=\"dataframe\">\n",
              "  <thead>\n",
              "    <tr style=\"text-align: right;\">\n",
              "      <th></th>\n",
              "      <th>title</th>\n",
              "      <th>author</th>\n",
              "      <th>school</th>\n",
              "      <th>sentence_spacy</th>\n",
              "      <th>sentence_str</th>\n",
              "      <th>sentence_length</th>\n",
              "      <th>sentence_lowered</th>\n",
              "      <th>sentence_lemmatized</th>\n",
              "    </tr>\n",
              "  </thead>\n",
              "  <tbody>\n",
              "    <tr>\n",
              "      <th>267798</th>\n",
              "      <td>the system of ethics</td>\n",
              "      <td>fichte</td>\n",
              "      <td>german_idealism</td>\n",
              "      <td>Like every virtuous person, the scholar ought ...</td>\n",
              "      <td>Like every virtuous person, the scholar ought ...</td>\n",
              "      <td>75</td>\n",
              "      <td>like every virtuous person, the scholar ought ...</td>\n",
              "      <td>like every virtuous person , the scholar ought...</td>\n",
              "    </tr>\n",
              "    <tr>\n",
              "      <th>178221</th>\n",
              "      <td>philosophical troubles</td>\n",
              "      <td>kripke</td>\n",
              "      <td>analytic</td>\n",
              "      <td>The same question arises for Sherlock Holmes .</td>\n",
              "      <td>The same question arises for Sherlock Holmes .</td>\n",
              "      <td>46</td>\n",
              "      <td>the same question arises for sherlock holmes .</td>\n",
              "      <td>the same question arises for sherlock holmes .</td>\n",
              "    </tr>\n",
              "    <tr>\n",
              "      <th>53137</th>\n",
              "      <td>complete works vol 1</td>\n",
              "      <td>aristotle</td>\n",
              "      <td>aristotle</td>\n",
              "      <td>Some bodies are solidified by both heat and cold.</td>\n",
              "      <td>Some bodies are solidified by both heat and cold.</td>\n",
              "      <td>49</td>\n",
              "      <td>some bodies are solidified by both heat and cold.</td>\n",
              "      <td>some body be solidify by both heat and cold .</td>\n",
              "    </tr>\n",
              "    <tr>\n",
              "      <th>52994</th>\n",
              "      <td>complete works vol 1</td>\n",
              "      <td>aristotle</td>\n",
              "      <td>aristotle</td>\n",
              "      <td>or non tractile, malleable or non malleable, t...</td>\n",
              "      <td>or non tractile, malleable or non malleable, t...</td>\n",
              "      <td>224</td>\n",
              "      <td>or non tractile, malleable or non malleable, t...</td>\n",
              "      <td>or non tractile , malleable or non malleable ,...</td>\n",
              "    </tr>\n",
              "    <tr>\n",
              "      <th>114928</th>\n",
              "      <td>theodicy</td>\n",
              "      <td>leibniz</td>\n",
              "      <td>rationalism</td>\n",
              "      <td>But it also for divers reasons appears likely ...</td>\n",
              "      <td>But it also for divers reasons appears likely ...</td>\n",
              "      <td>167</td>\n",
              "      <td>but it also for divers reasons appears likely ...</td>\n",
              "      <td>but it also for diver reason appear likely to ...</td>\n",
              "    </tr>\n",
              "  </tbody>\n",
              "</table>\n",
              "</div>"
            ],
            "text/plain": [
              "                         title  ...                                sentence_lemmatized\n",
              "267798    the system of ethics  ...  like every virtuous person , the scholar ought...\n",
              "178221  philosophical troubles  ...     the same question arises for sherlock holmes .\n",
              "53137     complete works vol 1  ...      some body be solidify by both heat and cold .\n",
              "52994     complete works vol 1  ...  or non tractile , malleable or non malleable ,...\n",
              "114928                theodicy  ...  but it also for diver reason appear likely to ...\n",
              "\n",
              "[5 rows x 8 columns]"
            ]
          },
          "metadata": {
            "tags": []
          },
          "execution_count": 111
        }
      ]
    },
    {
      "cell_type": "code",
      "metadata": {
        "id": "znFCKqjZGRxT"
      },
      "source": [
        "x_train, x_test, y_train, y_test = train_test_split(df['sentence_lemmatized'], df['school'])"
      ],
      "execution_count": 112,
      "outputs": []
    },
    {
      "cell_type": "code",
      "metadata": {
        "id": "kCtFSOZHJ17u"
      },
      "source": [
        "tfidvectorizer = TfidfVectorizer(decode_error='ignore', stop_words=custom_stopwords)\r\n",
        "tf_idf_data_train = tfidvectorizer.fit_transform(x_train)\r\n",
        "tf_idf_data_test = tfidvectorizer.transform(x_test)"
      ],
      "execution_count": 113,
      "outputs": []
    },
    {
      "cell_type": "code",
      "metadata": {
        "id": "mcrRFVEnys6O"
      },
      "source": [
        "from sklearn.preprocessing import LabelEncoder\r\n",
        "\r\n",
        "y_train_dummies = pd.get_dummies(y_train)\r\n",
        "y_classes = y_train_dummies.idxmax(1, skipna=False)\r\n",
        "\r\n",
        "# Instantiate the label encoder\r\n",
        "le = LabelEncoder()\r\n",
        "\r\n",
        "# Fit the label encoder to our label series\r\n",
        "le.fit(list(y_classes))\r\n",
        "\r\n",
        "# Create integer based labels Series\r\n",
        "y_integers = le.transform(list(y_classes))\r\n",
        "\r\n",
        "# Create dict of labels : integer representation\r\n",
        "labels_and_integers = dict(zip(y_classes, y_integers))\r\n",
        "\r\n",
        "from sklearn.utils.class_weight import compute_class_weight, compute_sample_weight\r\n",
        "\r\n",
        "class_weights = compute_class_weight('balanced', np.unique(y_integers), y_integers)\r\n",
        "sample_weights = compute_sample_weight('balanced', y_integers)\r\n",
        "\r\n",
        "class_weights_dict = dict(zip(le.transform(list(le.classes_)), class_weights))\r\n",
        "\r\n",
        "y_train = y_train.apply(lambda x: labels_and_integers[x])\r\n",
        "y_test = y_test.apply(lambda x: labels_and_integers[x])"
      ],
      "execution_count": 114,
      "outputs": []
    },
    {
      "cell_type": "code",
      "metadata": {
        "colab": {
          "base_uri": "https://localhost:8080/"
        },
        "id": "WW4D_4z500JH",
        "outputId": "1fb11f1f-8983-4e87-e592-632e1b2552ea"
      },
      "source": [
        "x_under, y_under = rus.fit_sample(tf_idf_data_train, y_train)"
      ],
      "execution_count": 116,
      "outputs": [
        {
          "output_type": "stream",
          "text": [
            "/usr/local/lib/python3.6/dist-packages/sklearn/utils/deprecation.py:87: FutureWarning: Function safe_indexing is deprecated; safe_indexing is deprecated in version 0.22 and will be removed in version 0.24.\n",
            "  warnings.warn(msg, category=FutureWarning)\n"
          ],
          "name": "stderr"
        }
      ]
    },
    {
      "cell_type": "code",
      "metadata": {
        "id": "ntNLXC4DJ7zx"
      },
      "source": [
        "nb_classifier_smote = MultinomialNB()\r\n",
        "nb_classifier_smote.fit(x_under, y_under)\r\n",
        "nb_test_smote_preds = nb_classifier_smote.predict(tf_idf_data_test)"
      ],
      "execution_count": 117,
      "outputs": []
    },
    {
      "cell_type": "code",
      "metadata": {
        "colab": {
          "base_uri": "https://localhost:8080/",
          "height": 466
        },
        "id": "jLmvQlDoKBFa",
        "outputId": "4944e832-6d48-4e27-b5f8-05de606253db"
      },
      "source": [
        "plot_pretty_cf(nb_classifier_smote, tf_idf_data_test, y_test, title='Multinomial NB Classifier CF w/ SMOTE [Lemmatized]')"
      ],
      "execution_count": 118,
      "outputs": [
        {
          "output_type": "display_data",
          "data": {
            "image/png": "[encoded data removed]",
            "text/plain": [
              "<Figure size 576x576 with 2 Axes>"
            ]
          },
          "metadata": {
            "tags": [],
            "needs_background": "light"
          }
        }
      ]
    },
    {
      "cell_type": "code",
      "metadata": {
        "colab": {
          "base_uri": "https://localhost:8080/"
        },
        "id": "o6NOJ3TNKFxN",
        "outputId": "c57e739d-862f-40ee-bfca-ecafb47d9ba3"
      },
      "source": [
        "print(classification_report(y_test, nb_test_smote_preds))"
      ],
      "execution_count": 119,
      "outputs": [
        {
          "output_type": "stream",
          "text": [
            "              precision    recall  f1-score   support\n",
            "\n",
            "           0       0.82      0.71      0.76     13435\n",
            "           1       0.80      0.69      0.74     12640\n",
            "           2       0.72      0.89      0.79      4590\n",
            "           3       0.75      0.77      0.76      4593\n",
            "           4       0.81      0.73      0.77      8408\n",
            "           5       0.58      0.82      0.68      5058\n",
            "           6       0.79      0.78      0.79     10575\n",
            "           7       0.73      0.71      0.72      7182\n",
            "           8       0.68      0.72      0.70      9639\n",
            "           9       0.62      0.73      0.67      5798\n",
            "\n",
            "    accuracy                           0.74     81918\n",
            "   macro avg       0.73      0.75      0.74     81918\n",
            "weighted avg       0.75      0.74      0.74     81918\n",
            "\n"
          ],
          "name": "stdout"
        }
      ]
    },
    {
      "cell_type": "code",
      "metadata": {
        "id": "4BK4o1g3LHJw"
      },
      "source": [
        ""
      ],
      "execution_count": null,
      "outputs": []
    },
    {
      "cell_type": "code",
      "metadata": {
        "id": "YSCanl8XS1R4"
      },
      "source": [
        ""
      ],
      "execution_count": null,
      "outputs": []
    },
    {
      "cell_type": "code",
      "metadata": {
        "id": "cn556XH2S1cu"
      },
      "source": [
        ""
      ],
      "execution_count": null,
      "outputs": []
    },
    {
      "cell_type": "code",
      "metadata": {
        "id": "7A7xb43DS1l6"
      },
      "source": [
        ""
      ],
      "execution_count": null,
      "outputs": []
    },
    {
      "cell_type": "code",
      "metadata": {
        "id": "jEndaOT0S1tx"
      },
      "source": [
        ""
      ],
      "execution_count": null,
      "outputs": []
    }
  ]
}